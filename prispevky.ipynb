{
 "cells": [
  {
   "cell_type": "code",
   "execution_count": 1,
   "metadata": {
    "ExecuteTime": {
     "end_time": "2025-04-02T19:39:35.029828Z",
     "start_time": "2025-04-02T19:39:34.966748Z"
    }
   },
   "outputs": [],
   "source": [
    "%load_ext autoreload\n",
    "%autoreload 2"
   ]
  },
  {
   "cell_type": "code",
   "execution_count": 20,
   "metadata": {
    "ExecuteTime": {
     "end_time": "2025-04-02T19:39:37.299806Z",
     "start_time": "2025-04-02T19:39:35.788573Z"
    }
   },
   "outputs": [
    {
     "data": {
      "text/plain": [
       "\"\\nIf logging in results in an error, delete the 'token.json' to re-authenticate.\\n\""
      ]
     },
     "execution_count": 20,
     "metadata": {},
     "output_type": "execute_result"
    }
   ],
   "source": [
    "import logging\n",
    "from gsheet import *\n",
    "from mailer import *\n",
    "from qr_code import *\n",
    "from payment_data import *\n",
    "\n",
    "\n",
    "\"\"\"\n",
    "If logging in results in an error, delete the 'token.json' to re-authenticate.\n",
    "\"\"\""
   ]
  },
  {
   "cell_type": "code",
   "execution_count": 21,
   "metadata": {
    "ExecuteTime": {
     "end_time": "2025-04-02T19:39:38.300527Z",
     "start_time": "2025-04-02T19:39:38.213221Z"
    }
   },
   "outputs": [],
   "source": [
    "logging.basicConfig(\n",
    "    format=\"[%(levelname)s] %(message)s\",\n",
    "    level=logging.INFO\n",
    ")"
   ]
  },
  {
   "cell_type": "code",
   "execution_count": 22,
   "metadata": {
    "ExecuteTime": {
     "end_time": "2025-04-02T19:41:01.863083Z",
     "start_time": "2025-04-02T19:41:01.785266Z"
    }
   },
   "outputs": [
    {
     "name": "stderr",
     "output_type": "stream",
     "text": [
      "[INFO] file_cache is only supported with oauth2client<4.0.0\n"
     ]
    }
   ],
   "source": [
    "sheet = Sheets(SPREADSHEET_ID)"
   ]
  },
  {
   "cell_type": "code",
   "execution_count": 23,
   "metadata": {
    "ExecuteTime": {
     "end_time": "2025-04-02T19:41:05.250982Z",
     "start_time": "2025-04-02T19:41:03.055979Z"
    }
   },
   "outputs": [],
   "source": [
    "# sheet_names = sheet.get_sheet_names()\n",
    "# sheet_name = '4pvs_all'\n",
    "# sheet_name = 'PLATBY_PODZIM_2022_filtered'\n",
    "# sheet_name=\"ExportNoFormulas\"\n",
    "# sheet_name=\"SkautisExport20231107\"\n",
    "# sheet_name=\"PlatbyJaro2025-racDodatek\"\n",
    "sheet_name=\"PlatbyPodzim2025\"\n",
    "# sheet_name = 'TESTv2'\n",
    "if 'TEST' in sheet_name:\n",
    "    testmode=True\n",
    "else:\n",
    "    testmode=False\n",
    "df = sheet.get_dataframe(sheet_name)"
   ]
  },
  {
   "cell_type": "code",
   "execution_count": 24,
   "metadata": {
    "ExecuteTime": {
     "end_time": "2025-04-02T19:41:06.773283Z",
     "start_time": "2025-04-02T19:41:06.643290Z"
    }
   },
   "outputs": [
    {
     "data": {
      "text/html": [
       "<div>\n",
       "<style scoped>\n",
       "    .dataframe tbody tr th:only-of-type {\n",
       "        vertical-align: middle;\n",
       "    }\n",
       "\n",
       "    .dataframe tbody tr th {\n",
       "        vertical-align: top;\n",
       "    }\n",
       "\n",
       "    .dataframe thead th {\n",
       "        text-align: right;\n",
       "    }\n",
       "</style>\n",
       "<table border=\"1\" class=\"dataframe\">\n",
       "  <thead>\n",
       "    <tr style=\"text-align: right;\">\n",
       "      <th></th>\n",
       "      <th>Jméno</th>\n",
       "      <th>Příjmení</th>\n",
       "      <th>Osoba</th>\n",
       "      <th>Přezdívka</th>\n",
       "      <th>Evidenční číslo</th>\n",
       "      <th>Jednotka</th>\n",
       "      <th>Typ jednotky</th>\n",
       "      <th>Typ členství</th>\n",
       "      <th>Kategorie</th>\n",
       "      <th>Odebírané časopisy</th>\n",
       "      <th>...</th>\n",
       "      <th>Mobil (další)</th>\n",
       "      <th>Telefon (další)</th>\n",
       "      <th>Telefon / mobil (hlavní)</th>\n",
       "      <th>Telefon do práce</th>\n",
       "      <th>Otec: mail</th>\n",
       "      <th>Otec: telefon</th>\n",
       "      <th>Matka: mail</th>\n",
       "      <th>Matka: telefon</th>\n",
       "      <th>Ostatní: mail</th>\n",
       "      <th>Ostatní: telefon</th>\n",
       "    </tr>\n",
       "  </thead>\n",
       "  <tbody>\n",
       "    <tr>\n",
       "      <th>0</th>\n",
       "      <td>Radka</td>\n",
       "      <td>Vachatová</td>\n",
       "      <td>Vachatová Radka</td>\n",
       "      <td>Redy</td>\n",
       "      <td>113.04</td>\n",
       "      <td>4. přístav Jana Nerudy Praha</td>\n",
       "      <td>Středisko</td>\n",
       "      <td>Řádné</td>\n",
       "      <td>Ostatní</td>\n",
       "      <td>Skautský svět</td>\n",
       "      <td>...</td>\n",
       "      <td>733705515</td>\n",
       "      <td></td>\n",
       "      <td>731533258</td>\n",
       "      <td>None</td>\n",
       "      <td>None</td>\n",
       "      <td>None</td>\n",
       "      <td>None</td>\n",
       "      <td>None</td>\n",
       "      <td>None</td>\n",
       "      <td>None</td>\n",
       "    </tr>\n",
       "    <tr>\n",
       "      <th>1</th>\n",
       "      <td>Hanka</td>\n",
       "      <td>Svrčková</td>\n",
       "      <td>Svrčková Hanka</td>\n",
       "      <td></td>\n",
       "      <td>113.04</td>\n",
       "      <td>4. přístav Jana Nerudy Praha</td>\n",
       "      <td>Středisko</td>\n",
       "      <td>Řádné</td>\n",
       "      <td>Ostatní</td>\n",
       "      <td>Skautský svět</td>\n",
       "      <td>...</td>\n",
       "      <td>None</td>\n",
       "      <td>None</td>\n",
       "      <td>None</td>\n",
       "      <td>None</td>\n",
       "      <td>None</td>\n",
       "      <td>None</td>\n",
       "      <td>None</td>\n",
       "      <td>None</td>\n",
       "      <td>None</td>\n",
       "      <td>None</td>\n",
       "    </tr>\n",
       "    <tr>\n",
       "      <th>2</th>\n",
       "      <td>Karel</td>\n",
       "      <td>Dvořák</td>\n",
       "      <td>Dvořák Karel</td>\n",
       "      <td>Šárlí</td>\n",
       "      <td>113.04.004-1</td>\n",
       "      <td>Albatrosové</td>\n",
       "      <td>Oddíl</td>\n",
       "      <td>Řádné</td>\n",
       "      <td>Ostatní</td>\n",
       "      <td>Skautský svět</td>\n",
       "      <td>...</td>\n",
       "      <td></td>\n",
       "      <td></td>\n",
       "      <td>721978545</td>\n",
       "      <td>None</td>\n",
       "      <td>None</td>\n",
       "      <td>None</td>\n",
       "      <td>None</td>\n",
       "      <td>None</td>\n",
       "      <td>None</td>\n",
       "      <td>None</td>\n",
       "    </tr>\n",
       "    <tr>\n",
       "      <th>3</th>\n",
       "      <td>David</td>\n",
       "      <td>Svoboda</td>\n",
       "      <td>Svoboda David</td>\n",
       "      <td>Cedník</td>\n",
       "      <td>113.04.004-1</td>\n",
       "      <td>Albatrosové</td>\n",
       "      <td>Oddíl</td>\n",
       "      <td>Řádné</td>\n",
       "      <td>Ostatní</td>\n",
       "      <td>Skautský svět, Skauting</td>\n",
       "      <td>...</td>\n",
       "      <td></td>\n",
       "      <td></td>\n",
       "      <td>732131483</td>\n",
       "      <td>None</td>\n",
       "      <td>None</td>\n",
       "      <td>None</td>\n",
       "      <td>None</td>\n",
       "      <td>None</td>\n",
       "      <td>None</td>\n",
       "      <td>None</td>\n",
       "    </tr>\n",
       "    <tr>\n",
       "      <th>4</th>\n",
       "      <td>Jiří</td>\n",
       "      <td>Svrček</td>\n",
       "      <td>Svrček Jiří</td>\n",
       "      <td>Jikra</td>\n",
       "      <td>113.04.004-1</td>\n",
       "      <td>Albatrosové</td>\n",
       "      <td>Oddíl</td>\n",
       "      <td>Řádné</td>\n",
       "      <td>Rover</td>\n",
       "      <td>Skautský svět</td>\n",
       "      <td>...</td>\n",
       "      <td></td>\n",
       "      <td>731893783</td>\n",
       "      <td>None</td>\n",
       "      <td>None</td>\n",
       "      <td>None</td>\n",
       "      <td>None</td>\n",
       "      <td>None</td>\n",
       "      <td>None</td>\n",
       "      <td>None</td>\n",
       "      <td>None</td>\n",
       "    </tr>\n",
       "    <tr>\n",
       "      <th>...</th>\n",
       "      <td>...</td>\n",
       "      <td>...</td>\n",
       "      <td>...</td>\n",
       "      <td>...</td>\n",
       "      <td>...</td>\n",
       "      <td>...</td>\n",
       "      <td>...</td>\n",
       "      <td>...</td>\n",
       "      <td>...</td>\n",
       "      <td>...</td>\n",
       "      <td>...</td>\n",
       "      <td>...</td>\n",
       "      <td>...</td>\n",
       "      <td>...</td>\n",
       "      <td>...</td>\n",
       "      <td>...</td>\n",
       "      <td>...</td>\n",
       "      <td>...</td>\n",
       "      <td>...</td>\n",
       "      <td>...</td>\n",
       "      <td>...</td>\n",
       "    </tr>\n",
       "    <tr>\n",
       "      <th>245</th>\n",
       "      <td>Lada</td>\n",
       "      <td>Zámečníková</td>\n",
       "      <td>Zámečníková Lada</td>\n",
       "      <td></td>\n",
       "      <td>113.04.004-4</td>\n",
       "      <td>Želvy</td>\n",
       "      <td>Oddíl</td>\n",
       "      <td>Řádné</td>\n",
       "      <td>Světluška</td>\n",
       "      <td>BenJáMína</td>\n",
       "      <td>...</td>\n",
       "      <td></td>\n",
       "      <td></td>\n",
       "      <td>721000730</td>\n",
       "      <td></td>\n",
       "      <td>martinz6492@seznam.cz</td>\n",
       "      <td>737859247</td>\n",
       "      <td>veronika.zamecnikova@omska.cz</td>\n",
       "      <td>724028382</td>\n",
       "      <td>None</td>\n",
       "      <td>None</td>\n",
       "    </tr>\n",
       "    <tr>\n",
       "      <th>246</th>\n",
       "      <td>Mariana</td>\n",
       "      <td>Novotná</td>\n",
       "      <td>Novotná Mariana</td>\n",
       "      <td></td>\n",
       "      <td>113.04.004-4</td>\n",
       "      <td>Želvy</td>\n",
       "      <td>Oddíl</td>\n",
       "      <td>Řádné</td>\n",
       "      <td>Světluška</td>\n",
       "      <td>BenJáMína</td>\n",
       "      <td>...</td>\n",
       "      <td></td>\n",
       "      <td></td>\n",
       "      <td></td>\n",
       "      <td></td>\n",
       "      <td>marian@natur.cuni.cz</td>\n",
       "      <td>604649422</td>\n",
       "      <td>lenka.novotna.81@seznam.cz</td>\n",
       "      <td>607667772</td>\n",
       "      <td>None</td>\n",
       "      <td>None</td>\n",
       "    </tr>\n",
       "    <tr>\n",
       "      <th>247</th>\n",
       "      <td>Klára</td>\n",
       "      <td>Mašková</td>\n",
       "      <td>Mašková Klára</td>\n",
       "      <td></td>\n",
       "      <td>113.04.004-4</td>\n",
       "      <td>Želvy</td>\n",
       "      <td>Oddíl</td>\n",
       "      <td>Řádné</td>\n",
       "      <td>Světluška</td>\n",
       "      <td>BenJáMína</td>\n",
       "      <td>...</td>\n",
       "      <td></td>\n",
       "      <td></td>\n",
       "      <td></td>\n",
       "      <td></td>\n",
       "      <td>masekj86@gmail.com</td>\n",
       "      <td>737842143</td>\n",
       "      <td>daniela.maskova.cz@gmail.com</td>\n",
       "      <td>602336463</td>\n",
       "      <td>None</td>\n",
       "      <td>None</td>\n",
       "    </tr>\n",
       "    <tr>\n",
       "      <th>248</th>\n",
       "      <td>Thea</td>\n",
       "      <td>Petrová</td>\n",
       "      <td>Petrová Thea</td>\n",
       "      <td></td>\n",
       "      <td>113.04.004-4</td>\n",
       "      <td>Želvy</td>\n",
       "      <td>Oddíl</td>\n",
       "      <td>Řádné</td>\n",
       "      <td>Světluška</td>\n",
       "      <td>Světýlko</td>\n",
       "      <td>...</td>\n",
       "      <td></td>\n",
       "      <td></td>\n",
       "      <td></td>\n",
       "      <td></td>\n",
       "      <td>jakub.peter@gmail.com</td>\n",
       "      <td>604822309</td>\n",
       "      <td>daska.v@gmail.com</td>\n",
       "      <td>605444881</td>\n",
       "      <td>None</td>\n",
       "      <td>None</td>\n",
       "    </tr>\n",
       "    <tr>\n",
       "      <th>249</th>\n",
       "      <td>Dorothea</td>\n",
       "      <td>Pestlová</td>\n",
       "      <td>Pestlová Dorothea</td>\n",
       "      <td>Doris</td>\n",
       "      <td>113.04.004-4</td>\n",
       "      <td>Želvy</td>\n",
       "      <td>Oddíl</td>\n",
       "      <td>Řádné</td>\n",
       "      <td>Ranger</td>\n",
       "      <td></td>\n",
       "      <td>...</td>\n",
       "      <td></td>\n",
       "      <td></td>\n",
       "      <td>724553324</td>\n",
       "      <td>None</td>\n",
       "      <td>None</td>\n",
       "      <td>None</td>\n",
       "      <td>None</td>\n",
       "      <td>None</td>\n",
       "      <td>None</td>\n",
       "      <td>None</td>\n",
       "    </tr>\n",
       "  </tbody>\n",
       "</table>\n",
       "<p>250 rows × 27 columns</p>\n",
       "</div>"
      ],
      "text/plain": [
       "        Jméno     Příjmení              Osoba Přezdívka Evidenční číslo  \\\n",
       "0       Radka    Vachatová    Vachatová Radka      Redy          113.04   \n",
       "1       Hanka     Svrčková     Svrčková Hanka                    113.04   \n",
       "2       Karel       Dvořák       Dvořák Karel     Šárlí    113.04.004-1   \n",
       "3       David      Svoboda      Svoboda David    Cedník    113.04.004-1   \n",
       "4        Jiří       Svrček        Svrček Jiří     Jikra    113.04.004-1   \n",
       "..        ...          ...                ...       ...             ...   \n",
       "245      Lada  Zámečníková   Zámečníková Lada              113.04.004-4   \n",
       "246   Mariana      Novotná    Novotná Mariana              113.04.004-4   \n",
       "247     Klára      Mašková      Mašková Klára              113.04.004-4   \n",
       "248      Thea      Petrová       Petrová Thea              113.04.004-4   \n",
       "249  Dorothea     Pestlová  Pestlová Dorothea     Doris    113.04.004-4   \n",
       "\n",
       "                         Jednotka Typ jednotky Typ členství  Kategorie  \\\n",
       "0    4. přístav Jana Nerudy Praha    Středisko        Řádné    Ostatní   \n",
       "1    4. přístav Jana Nerudy Praha    Středisko        Řádné    Ostatní   \n",
       "2                     Albatrosové        Oddíl        Řádné    Ostatní   \n",
       "3                     Albatrosové        Oddíl        Řádné    Ostatní   \n",
       "4                     Albatrosové        Oddíl        Řádné      Rover   \n",
       "..                            ...          ...          ...        ...   \n",
       "245                         Želvy        Oddíl        Řádné  Světluška   \n",
       "246                         Želvy        Oddíl        Řádné  Světluška   \n",
       "247                         Želvy        Oddíl        Řádné  Světluška   \n",
       "248                         Želvy        Oddíl        Řádné  Světluška   \n",
       "249                         Želvy        Oddíl        Řádné     Ranger   \n",
       "\n",
       "          Odebírané časopisy  ... Mobil (další) Telefon (další)  \\\n",
       "0              Skautský svět  ...     733705515                   \n",
       "1              Skautský svět  ...          None            None   \n",
       "2              Skautský svět  ...                                 \n",
       "3    Skautský svět, Skauting  ...                                 \n",
       "4              Skautský svět  ...                     731893783   \n",
       "..                       ...  ...           ...             ...   \n",
       "245                BenJáMína  ...                                 \n",
       "246                BenJáMína  ...                                 \n",
       "247                BenJáMína  ...                                 \n",
       "248                 Světýlko  ...                                 \n",
       "249                           ...                                 \n",
       "\n",
       "    Telefon / mobil (hlavní) Telefon do práce             Otec: mail  \\\n",
       "0                  731533258             None                   None   \n",
       "1                       None             None                   None   \n",
       "2                  721978545             None                   None   \n",
       "3                  732131483             None                   None   \n",
       "4                       None             None                   None   \n",
       "..                       ...              ...                    ...   \n",
       "245                721000730                   martinz6492@seznam.cz   \n",
       "246                                             marian@natur.cuni.cz   \n",
       "247                                               masekj86@gmail.com   \n",
       "248                                            jakub.peter@gmail.com   \n",
       "249                724553324             None                   None   \n",
       "\n",
       "    Otec: telefon                    Matka: mail Matka: telefon Ostatní: mail  \\\n",
       "0            None                           None           None          None   \n",
       "1            None                           None           None          None   \n",
       "2            None                           None           None          None   \n",
       "3            None                           None           None          None   \n",
       "4            None                           None           None          None   \n",
       "..            ...                            ...            ...           ...   \n",
       "245     737859247  veronika.zamecnikova@omska.cz      724028382          None   \n",
       "246     604649422     lenka.novotna.81@seznam.cz      607667772          None   \n",
       "247     737842143   daniela.maskova.cz@gmail.com      602336463          None   \n",
       "248     604822309              daska.v@gmail.com      605444881          None   \n",
       "249          None                           None           None          None   \n",
       "\n",
       "    Ostatní: telefon  \n",
       "0               None  \n",
       "1               None  \n",
       "2               None  \n",
       "3               None  \n",
       "4               None  \n",
       "..               ...  \n",
       "245             None  \n",
       "246             None  \n",
       "247             None  \n",
       "248             None  \n",
       "249             None  \n",
       "\n",
       "[250 rows x 27 columns]"
      ]
     },
     "execution_count": 24,
     "metadata": {},
     "output_type": "execute_result"
    }
   ],
   "source": [
    "df"
   ]
  },
  {
   "cell_type": "code",
   "execution_count": 25,
   "metadata": {
    "ExecuteTime": {
     "end_time": "2025-04-02T19:41:11.333514Z",
     "start_time": "2025-04-02T19:41:11.153136Z"
    },
    "scrolled": false
   },
   "outputs": [
    {
     "name": "stderr",
     "output_type": "stream",
     "text": [
      "u:\\Users\\Honza\\scth\\projects\\4pvs_prispevky_qr_kod\\payment_data.py:112: FutureWarning: Downcasting object dtype arrays on .fillna, .ffill, .bfill is deprecated and will change in a future version. Call result.infer_objects(copy=False) instead. To opt-in to the future behavior, set `pd.set_option('future.no_silent_downcasting', True)`\n",
      "  payments = df.loc[:, cols.czk_amounts].fillna(0)\n",
      "[INFO] Of 250 people, missing email: 1,\n",
      "\temailable paid: 21\n",
      "\temailable unpaid: 228.\n",
      " Also there were 0 invalid emails.\n"
     ]
    }
   ],
   "source": [
    "NEEDED_COLS = NeededColumns()\n",
    "pdf=PaymentsDataFrame(df, NEEDED_COLS)"
   ]
  },
  {
   "cell_type": "code",
   "execution_count": 26,
   "metadata": {
    "ExecuteTime": {
     "end_time": "2025-04-02T19:42:08.885686Z",
     "start_time": "2025-04-02T19:42:08.815059Z"
    }
   },
   "outputs": [
    {
     "data": {
      "text/html": [
       "<div>\n",
       "<style scoped>\n",
       "    .dataframe tbody tr th:only-of-type {\n",
       "        vertical-align: middle;\n",
       "    }\n",
       "\n",
       "    .dataframe tbody tr th {\n",
       "        vertical-align: top;\n",
       "    }\n",
       "\n",
       "    .dataframe thead th {\n",
       "        text-align: right;\n",
       "    }\n",
       "</style>\n",
       "<table border=\"1\" class=\"dataframe\">\n",
       "  <thead>\n",
       "    <tr style=\"text-align: right;\">\n",
       "      <th></th>\n",
       "      <th>Osoba</th>\n",
       "      <th>Jednotka</th>\n",
       "      <th>Registrační číslo</th>\n",
       "      <th>E-mail (hlavní)</th>\n",
       "      <th>Otec: mail</th>\n",
       "      <th>Matka: mail</th>\n",
       "      <th>E-mail (další)</th>\n",
       "      <th>Ostatní: mail</th>\n",
       "      <th>Poplatek</th>\n",
       "      <th>Zaplaceno</th>\n",
       "      <th>valid_addresses</th>\n",
       "      <th>invalid_addresses</th>\n",
       "    </tr>\n",
       "  </thead>\n",
       "  <tbody>\n",
       "    <tr>\n",
       "      <th>1</th>\n",
       "      <td>Svrčková Hanka</td>\n",
       "      <td>4. přístav Jana Nerudy Praha</td>\n",
       "      <td>None</td>\n",
       "      <td>None</td>\n",
       "      <td>None</td>\n",
       "      <td>None</td>\n",
       "      <td>None</td>\n",
       "      <td>None</td>\n",
       "      <td>1000</td>\n",
       "      <td>None</td>\n",
       "      <td>()</td>\n",
       "      <td>()</td>\n",
       "    </tr>\n",
       "  </tbody>\n",
       "</table>\n",
       "</div>"
      ],
      "text/plain": [
       "            Osoba                      Jednotka Registrační číslo  \\\n",
       "1  Svrčková Hanka  4. přístav Jana Nerudy Praha              None   \n",
       "\n",
       "  E-mail (hlavní) Otec: mail Matka: mail E-mail (další) Ostatní: mail  \\\n",
       "1            None       None        None           None          None   \n",
       "\n",
       "  Poplatek Zaplaceno valid_addresses invalid_addresses  \n",
       "1     1000      None              ()                ()  "
      ]
     },
     "execution_count": 26,
     "metadata": {},
     "output_type": "execute_result"
    }
   ],
   "source": [
    "pdf.df_missing_email"
   ]
  },
  {
   "cell_type": "code",
   "execution_count": 27,
   "metadata": {
    "ExecuteTime": {
     "end_time": "2025-04-02T19:42:20.806048Z",
     "start_time": "2025-04-02T19:42:20.607880Z"
    }
   },
   "outputs": [],
   "source": [
    "emails = []\n",
    "\n",
    "\"\"\"\n",
    "!!!!!WARNING! MAY BE CURRENTLY SET TO EMAIL ALL AVAILABLE EMAIL ADDRESSES!!!!!\n",
    "\n",
    "Modify this setting on second line:\n",
    "    recepient_addresses = row.valid_addresses\n",
    "    \n",
    "Modify order in in class NeededColumns\n",
    "\"\"\"\n",
    "\n",
    "for i, row in pdf.df_emailable_unpaid.iterrows():\n",
    "    recepient_addresses = row.valid_addresses[:2]\n",
    "    pi = PaymentInfo.from_df_row(row, NEEDED_COLS)\n",
    "    email = PaymentEmail(pi, recepient_addresses, testmode=testmode)\n",
    "    emails.append(email.msg)"
   ]
  },
  {
   "cell_type": "code",
   "execution_count": 28,
   "metadata": {
    "ExecuteTime": {
     "end_time": "2025-04-02T19:42:23.356247Z",
     "start_time": "2025-04-02T19:42:23.281971Z"
    }
   },
   "outputs": [
    {
     "data": {
      "text/html": [
       "<div>\n",
       "<style scoped>\n",
       "    .dataframe tbody tr th:only-of-type {\n",
       "        vertical-align: middle;\n",
       "    }\n",
       "\n",
       "    .dataframe tbody tr th {\n",
       "        vertical-align: top;\n",
       "    }\n",
       "\n",
       "    .dataframe thead th {\n",
       "        text-align: right;\n",
       "    }\n",
       "</style>\n",
       "<table border=\"1\" class=\"dataframe\">\n",
       "  <thead>\n",
       "    <tr style=\"text-align: right;\">\n",
       "      <th></th>\n",
       "      <th>Osoba</th>\n",
       "      <th>Jednotka</th>\n",
       "      <th>Registrační číslo</th>\n",
       "      <th>E-mail (hlavní)</th>\n",
       "      <th>Otec: mail</th>\n",
       "      <th>Matka: mail</th>\n",
       "      <th>E-mail (další)</th>\n",
       "      <th>Ostatní: mail</th>\n",
       "      <th>Poplatek</th>\n",
       "      <th>Zaplaceno</th>\n",
       "      <th>valid_addresses</th>\n",
       "      <th>invalid_addresses</th>\n",
       "    </tr>\n",
       "  </thead>\n",
       "  <tbody>\n",
       "    <tr>\n",
       "      <th>0</th>\n",
       "      <td>Vachatová Radka</td>\n",
       "      <td>4. přístav Jana Nerudy Praha</td>\n",
       "      <td>507</td>\n",
       "      <td>radka.vachatova@seznam.cz</td>\n",
       "      <td>None</td>\n",
       "      <td>None</td>\n",
       "      <td>None</td>\n",
       "      <td>None</td>\n",
       "      <td>1000</td>\n",
       "      <td>0</td>\n",
       "      <td>(\"E-mail (hlavní)\" &lt;radka.vachatova@seznam.cz&gt;,)</td>\n",
       "      <td>()</td>\n",
       "    </tr>\n",
       "    <tr>\n",
       "      <th>3</th>\n",
       "      <td>Svoboda David</td>\n",
       "      <td>Albatrosové</td>\n",
       "      <td>10010</td>\n",
       "      <td>cednik@email.cz</td>\n",
       "      <td>None</td>\n",
       "      <td>None</td>\n",
       "      <td>None</td>\n",
       "      <td>None</td>\n",
       "      <td>1000</td>\n",
       "      <td>0</td>\n",
       "      <td>(\"E-mail (hlavní)\" &lt;cednik@email.cz&gt;,)</td>\n",
       "      <td>()</td>\n",
       "    </tr>\n",
       "    <tr>\n",
       "      <th>4</th>\n",
       "      <td>Svrček Jiří</td>\n",
       "      <td>Albatrosové</td>\n",
       "      <td>10013</td>\n",
       "      <td>None</td>\n",
       "      <td>None</td>\n",
       "      <td>None</td>\n",
       "      <td>tajfun.svrcek@seznam.cz</td>\n",
       "      <td>None</td>\n",
       "      <td>2000</td>\n",
       "      <td>0</td>\n",
       "      <td>(\"E-mail (další)\" &lt;tajfun.svrcek@seznam.cz&gt;,)</td>\n",
       "      <td>()</td>\n",
       "    </tr>\n",
       "    <tr>\n",
       "      <th>5</th>\n",
       "      <td>Mrkos Jan</td>\n",
       "      <td>Albatrosové</td>\n",
       "      <td>10015</td>\n",
       "      <td>hondzik@skaut.cz</td>\n",
       "      <td>None</td>\n",
       "      <td>None</td>\n",
       "      <td>hondzik@skautka.cz, jan.mrkos@skaut.cz, mrkos....</td>\n",
       "      <td>None</td>\n",
       "      <td>1000</td>\n",
       "      <td>0</td>\n",
       "      <td>(\"E-mail (hlavní)\" &lt;hondzik@skaut.cz&gt;, \"E-mail...</td>\n",
       "      <td>()</td>\n",
       "    </tr>\n",
       "    <tr>\n",
       "      <th>6</th>\n",
       "      <td>Milec Oldřich</td>\n",
       "      <td>Albatrosové</td>\n",
       "      <td>10017</td>\n",
       "      <td>oldamilec@seznam.cz</td>\n",
       "      <td>None</td>\n",
       "      <td>None</td>\n",
       "      <td>olda.m@skaut.cz</td>\n",
       "      <td>None</td>\n",
       "      <td>1000</td>\n",
       "      <td>0</td>\n",
       "      <td>(\"E-mail (hlavní)\" &lt;oldamilec@seznam.cz&gt;, \"E-m...</td>\n",
       "      <td>()</td>\n",
       "    </tr>\n",
       "    <tr>\n",
       "      <th>...</th>\n",
       "      <td>...</td>\n",
       "      <td>...</td>\n",
       "      <td>...</td>\n",
       "      <td>...</td>\n",
       "      <td>...</td>\n",
       "      <td>...</td>\n",
       "      <td>...</td>\n",
       "      <td>...</td>\n",
       "      <td>...</td>\n",
       "      <td>...</td>\n",
       "      <td>...</td>\n",
       "      <td>...</td>\n",
       "    </tr>\n",
       "    <tr>\n",
       "      <th>244</th>\n",
       "      <td>Socháňová Agáta</td>\n",
       "      <td>Želvy</td>\n",
       "      <td>60004</td>\n",
       "      <td>None</td>\n",
       "      <td>petr.sochan@gmail.com</td>\n",
       "      <td>ada.tzoneva@gmail.com</td>\n",
       "      <td>None</td>\n",
       "      <td>None</td>\n",
       "      <td>1000</td>\n",
       "      <td>0</td>\n",
       "      <td>(\"Matka: mail\" &lt;ada.tzoneva@gmail.com&gt;, \"Otec:...</td>\n",
       "      <td>()</td>\n",
       "    </tr>\n",
       "    <tr>\n",
       "      <th>245</th>\n",
       "      <td>Zámečníková Lada</td>\n",
       "      <td>Želvy</td>\n",
       "      <td>60006</td>\n",
       "      <td>None</td>\n",
       "      <td>martinz6492@seznam.cz</td>\n",
       "      <td>veronika.zamecnikova@omska.cz</td>\n",
       "      <td>None</td>\n",
       "      <td>None</td>\n",
       "      <td>2000</td>\n",
       "      <td>0</td>\n",
       "      <td>(\"Matka: mail\" &lt;veronika.zamecnikova@omska.cz&gt;...</td>\n",
       "      <td>()</td>\n",
       "    </tr>\n",
       "    <tr>\n",
       "      <th>246</th>\n",
       "      <td>Novotná Mariana</td>\n",
       "      <td>Želvy</td>\n",
       "      <td>60011</td>\n",
       "      <td>None</td>\n",
       "      <td>marian@natur.cuni.cz</td>\n",
       "      <td>lenka.novotna.81@seznam.cz</td>\n",
       "      <td>None</td>\n",
       "      <td>None</td>\n",
       "      <td>1000</td>\n",
       "      <td>0</td>\n",
       "      <td>(\"Matka: mail\" &lt;lenka.novotna.81@seznam.cz&gt;, \"...</td>\n",
       "      <td>()</td>\n",
       "    </tr>\n",
       "    <tr>\n",
       "      <th>247</th>\n",
       "      <td>Mašková Klára</td>\n",
       "      <td>Želvy</td>\n",
       "      <td>60018</td>\n",
       "      <td>None</td>\n",
       "      <td>masekj86@gmail.com</td>\n",
       "      <td>daniela.maskova.cz@gmail.com</td>\n",
       "      <td>None</td>\n",
       "      <td>None</td>\n",
       "      <td>1000</td>\n",
       "      <td>0</td>\n",
       "      <td>(\"Matka: mail\" &lt;daniela.maskova.cz@gmail.com&gt;,...</td>\n",
       "      <td>()</td>\n",
       "    </tr>\n",
       "    <tr>\n",
       "      <th>249</th>\n",
       "      <td>Pestlová Dorothea</td>\n",
       "      <td>Želvy</td>\n",
       "      <td>93011</td>\n",
       "      <td>doris@skaut.cz</td>\n",
       "      <td>None</td>\n",
       "      <td>None</td>\n",
       "      <td>dorothea.pestl@gmail.com</td>\n",
       "      <td>None</td>\n",
       "      <td>1000</td>\n",
       "      <td>0</td>\n",
       "      <td>(\"E-mail (hlavní)\" &lt;doris@skaut.cz&gt;, \"E-mail (...</td>\n",
       "      <td>()</td>\n",
       "    </tr>\n",
       "  </tbody>\n",
       "</table>\n",
       "<p>228 rows × 12 columns</p>\n",
       "</div>"
      ],
      "text/plain": [
       "                 Osoba                      Jednotka Registrační číslo  \\\n",
       "0      Vachatová Radka  4. přístav Jana Nerudy Praha               507   \n",
       "3        Svoboda David                   Albatrosové             10010   \n",
       "4          Svrček Jiří                   Albatrosové             10013   \n",
       "5            Mrkos Jan                   Albatrosové             10015   \n",
       "6        Milec Oldřich                   Albatrosové             10017   \n",
       "..                 ...                           ...               ...   \n",
       "244    Socháňová Agáta                         Želvy             60004   \n",
       "245   Zámečníková Lada                         Želvy             60006   \n",
       "246    Novotná Mariana                         Želvy             60011   \n",
       "247      Mašková Klára                         Želvy             60018   \n",
       "249  Pestlová Dorothea                         Želvy             93011   \n",
       "\n",
       "               E-mail (hlavní)             Otec: mail  \\\n",
       "0    radka.vachatova@seznam.cz                   None   \n",
       "3              cednik@email.cz                   None   \n",
       "4                         None                   None   \n",
       "5             hondzik@skaut.cz                   None   \n",
       "6          oldamilec@seznam.cz                   None   \n",
       "..                         ...                    ...   \n",
       "244                       None  petr.sochan@gmail.com   \n",
       "245                       None  martinz6492@seznam.cz   \n",
       "246                       None   marian@natur.cuni.cz   \n",
       "247                       None     masekj86@gmail.com   \n",
       "249             doris@skaut.cz                   None   \n",
       "\n",
       "                       Matka: mail  \\\n",
       "0                             None   \n",
       "3                             None   \n",
       "4                             None   \n",
       "5                             None   \n",
       "6                             None   \n",
       "..                             ...   \n",
       "244          ada.tzoneva@gmail.com   \n",
       "245  veronika.zamecnikova@omska.cz   \n",
       "246     lenka.novotna.81@seznam.cz   \n",
       "247   daniela.maskova.cz@gmail.com   \n",
       "249                           None   \n",
       "\n",
       "                                        E-mail (další) Ostatní: mail Poplatek  \\\n",
       "0                                                 None          None     1000   \n",
       "3                                                 None          None     1000   \n",
       "4                              tajfun.svrcek@seznam.cz          None     2000   \n",
       "5    hondzik@skautka.cz, jan.mrkos@skaut.cz, mrkos....          None     1000   \n",
       "6                                      olda.m@skaut.cz          None     1000   \n",
       "..                                                 ...           ...      ...   \n",
       "244                                               None          None     1000   \n",
       "245                                               None          None     2000   \n",
       "246                                               None          None     1000   \n",
       "247                                               None          None     1000   \n",
       "249                           dorothea.pestl@gmail.com          None     1000   \n",
       "\n",
       "    Zaplaceno                                    valid_addresses  \\\n",
       "0           0   (\"E-mail (hlavní)\" <radka.vachatova@seznam.cz>,)   \n",
       "3           0             (\"E-mail (hlavní)\" <cednik@email.cz>,)   \n",
       "4           0      (\"E-mail (další)\" <tajfun.svrcek@seznam.cz>,)   \n",
       "5           0  (\"E-mail (hlavní)\" <hondzik@skaut.cz>, \"E-mail...   \n",
       "6           0  (\"E-mail (hlavní)\" <oldamilec@seznam.cz>, \"E-m...   \n",
       "..        ...                                                ...   \n",
       "244         0  (\"Matka: mail\" <ada.tzoneva@gmail.com>, \"Otec:...   \n",
       "245         0  (\"Matka: mail\" <veronika.zamecnikova@omska.cz>...   \n",
       "246         0  (\"Matka: mail\" <lenka.novotna.81@seznam.cz>, \"...   \n",
       "247         0  (\"Matka: mail\" <daniela.maskova.cz@gmail.com>,...   \n",
       "249         0  (\"E-mail (hlavní)\" <doris@skaut.cz>, \"E-mail (...   \n",
       "\n",
       "    invalid_addresses  \n",
       "0                  ()  \n",
       "3                  ()  \n",
       "4                  ()  \n",
       "5                  ()  \n",
       "6                  ()  \n",
       "..                ...  \n",
       "244                ()  \n",
       "245                ()  \n",
       "246                ()  \n",
       "247                ()  \n",
       "249                ()  \n",
       "\n",
       "[228 rows x 12 columns]"
      ]
     },
     "execution_count": 28,
     "metadata": {},
     "output_type": "execute_result"
    }
   ],
   "source": [
    "pdf.df_emailable_unpaid"
   ]
  },
  {
   "cell_type": "code",
   "execution_count": 33,
   "metadata": {
    "ExecuteTime": {
     "end_time": "2025-04-02T19:42:29.556540Z",
     "start_time": "2025-04-02T19:42:29.481822Z"
    }
   },
   "outputs": [],
   "source": [
    "with open(f'./test.eml', 'wb') as f:\n",
    "    f.write(bytes(emails[35]))"
   ]
  },
  {
   "cell_type": "markdown",
   "metadata": {
    "collapsed": false
   },
   "source": [
    "## ⚡ Danger Zone ⚡"
   ]
  },
  {
   "cell_type": "code",
   "execution_count": 30,
   "metadata": {
    "ExecuteTime": {
     "end_time": "2025-04-02T19:43:23.008719Z",
     "start_time": "2025-04-02T19:43:22.923851Z"
    }
   },
   "outputs": [
    {
     "name": "stderr",
     "output_type": "stream",
     "text": [
      "[INFO] file_cache is only supported with oauth2client<4.0.0\n"
     ]
    }
   ],
   "source": [
    "mailer = Mailer()\n",
    "sent = []"
   ]
  },
  {
   "cell_type": "code",
   "execution_count": 31,
   "metadata": {
    "ExecuteTime": {
     "end_time": "2025-04-02T19:43:28.437516Z",
     "start_time": "2025-04-02T19:43:26.835170Z"
    }
   },
   "outputs": [
    {
     "name": "stdout",
     "output_type": "stream",
     "text": [
      "Sending email 1/228:\n"
     ]
    },
    {
     "name": "stderr",
     "output_type": "stream",
     "text": [
      "[INFO] Message Id: 199dfb81ea705094 sent.\n"
     ]
    },
    {
     "name": "stdout",
     "output_type": "stream",
     "text": [
      "Sending email 2/228:\n"
     ]
    },
    {
     "name": "stderr",
     "output_type": "stream",
     "text": [
      "[INFO] Message Id: 199dfb82163bd264 sent.\n"
     ]
    },
    {
     "name": "stdout",
     "output_type": "stream",
     "text": [
      "Sending email 3/228:\n"
     ]
    },
    {
     "name": "stderr",
     "output_type": "stream",
     "text": [
      "[INFO] Message Id: 199dfb823318a994 sent.\n"
     ]
    },
    {
     "name": "stdout",
     "output_type": "stream",
     "text": [
      "Sending email 4/228:\n"
     ]
    },
    {
     "name": "stderr",
     "output_type": "stream",
     "text": [
      "[INFO] Message Id: 199dfb8272f19fdf sent.\n"
     ]
    },
    {
     "name": "stdout",
     "output_type": "stream",
     "text": [
      "Sending email 5/228:\n"
     ]
    },
    {
     "name": "stderr",
     "output_type": "stream",
     "text": [
      "[INFO] Message Id: 199dfb8282807f4c sent.\n"
     ]
    },
    {
     "name": "stdout",
     "output_type": "stream",
     "text": [
      "Sending email 6/228:\n"
     ]
    },
    {
     "name": "stderr",
     "output_type": "stream",
     "text": [
      "[INFO] Message Id: 199dfb82b38d3bd3 sent.\n"
     ]
    },
    {
     "name": "stdout",
     "output_type": "stream",
     "text": [
      "Sending email 7/228:\n"
     ]
    },
    {
     "name": "stderr",
     "output_type": "stream",
     "text": [
      "[INFO] Message Id: 199dfb82f9ddc054 sent.\n"
     ]
    },
    {
     "name": "stdout",
     "output_type": "stream",
     "text": [
      "Sending email 8/228:\n"
     ]
    },
    {
     "name": "stderr",
     "output_type": "stream",
     "text": [
      "[INFO] Message Id: 199dfb8304585aa1 sent.\n"
     ]
    },
    {
     "name": "stdout",
     "output_type": "stream",
     "text": [
      "Sending email 9/228:\n"
     ]
    },
    {
     "name": "stderr",
     "output_type": "stream",
     "text": [
      "[INFO] Message Id: 199dfb83415a5f19 sent.\n"
     ]
    },
    {
     "name": "stdout",
     "output_type": "stream",
     "text": [
      "Sending email 10/228:\n"
     ]
    },
    {
     "name": "stderr",
     "output_type": "stream",
     "text": [
      "[INFO] Message Id: 199dfb836213561c sent.\n"
     ]
    },
    {
     "name": "stdout",
     "output_type": "stream",
     "text": [
      "Sending email 11/228:\n"
     ]
    },
    {
     "name": "stderr",
     "output_type": "stream",
     "text": [
      "[INFO] Message Id: 199dfb8393f41788 sent.\n"
     ]
    },
    {
     "name": "stdout",
     "output_type": "stream",
     "text": [
      "Sending email 12/228:\n"
     ]
    },
    {
     "name": "stderr",
     "output_type": "stream",
     "text": [
      "[INFO] Message Id: 199dfb83ce17172c sent.\n"
     ]
    },
    {
     "name": "stdout",
     "output_type": "stream",
     "text": [
      "Sending email 13/228:\n"
     ]
    },
    {
     "name": "stderr",
     "output_type": "stream",
     "text": [
      "[INFO] Message Id: 199dfb83eb655314 sent.\n"
     ]
    },
    {
     "name": "stdout",
     "output_type": "stream",
     "text": [
      "Sending email 14/228:\n"
     ]
    },
    {
     "name": "stderr",
     "output_type": "stream",
     "text": [
      "[INFO] Message Id: 199dfb8406dde155 sent.\n"
     ]
    },
    {
     "name": "stdout",
     "output_type": "stream",
     "text": [
      "Sending email 15/228:\n"
     ]
    },
    {
     "name": "stderr",
     "output_type": "stream",
     "text": [
      "[INFO] Message Id: 199dfb8423619868 sent.\n"
     ]
    },
    {
     "name": "stdout",
     "output_type": "stream",
     "text": [
      "Sending email 16/228:\n"
     ]
    },
    {
     "name": "stderr",
     "output_type": "stream",
     "text": [
      "[INFO] Message Id: 199dfb84659f1e11 sent.\n"
     ]
    },
    {
     "name": "stdout",
     "output_type": "stream",
     "text": [
      "Sending email 17/228:\n"
     ]
    },
    {
     "name": "stderr",
     "output_type": "stream",
     "text": [
      "[INFO] Message Id: 199dfb848498b4c9 sent.\n"
     ]
    },
    {
     "name": "stdout",
     "output_type": "stream",
     "text": [
      "Sending email 18/228:\n"
     ]
    },
    {
     "name": "stderr",
     "output_type": "stream",
     "text": [
      "[INFO] Message Id: 199dfb84dfac3985 sent.\n"
     ]
    },
    {
     "name": "stdout",
     "output_type": "stream",
     "text": [
      "Sending email 19/228:\n"
     ]
    },
    {
     "name": "stderr",
     "output_type": "stream",
     "text": [
      "[INFO] Message Id: 199dfb84e2f09a4e sent.\n"
     ]
    },
    {
     "name": "stdout",
     "output_type": "stream",
     "text": [
      "Sending email 20/228:\n"
     ]
    },
    {
     "name": "stderr",
     "output_type": "stream",
     "text": [
      "[INFO] Message Id: 199dfb850d1de669 sent.\n"
     ]
    },
    {
     "name": "stdout",
     "output_type": "stream",
     "text": [
      "Sending email 21/228:\n"
     ]
    },
    {
     "name": "stderr",
     "output_type": "stream",
     "text": [
      "[INFO] Message Id: 199dfb854827b267 sent.\n"
     ]
    },
    {
     "name": "stdout",
     "output_type": "stream",
     "text": [
      "Sending email 22/228:\n"
     ]
    },
    {
     "name": "stderr",
     "output_type": "stream",
     "text": [
      "[INFO] Message Id: 199dfb8562710dcd sent.\n"
     ]
    },
    {
     "name": "stdout",
     "output_type": "stream",
     "text": [
      "Sending email 23/228:\n"
     ]
    },
    {
     "name": "stderr",
     "output_type": "stream",
     "text": [
      "[INFO] Message Id: 199dfb85bec20d9d sent.\n"
     ]
    },
    {
     "name": "stdout",
     "output_type": "stream",
     "text": [
      "Sending email 24/228:\n"
     ]
    },
    {
     "name": "stderr",
     "output_type": "stream",
     "text": [
      "[INFO] Message Id: 199dfb85dc8af74a sent.\n"
     ]
    },
    {
     "name": "stdout",
     "output_type": "stream",
     "text": [
      "Sending email 25/228:\n"
     ]
    },
    {
     "name": "stderr",
     "output_type": "stream",
     "text": [
      "[INFO] Message Id: 199dfb860370d3b5 sent.\n"
     ]
    },
    {
     "name": "stdout",
     "output_type": "stream",
     "text": [
      "Sending email 26/228:\n"
     ]
    },
    {
     "name": "stderr",
     "output_type": "stream",
     "text": [
      "[INFO] Message Id: 199dfb8623e53259 sent.\n"
     ]
    },
    {
     "name": "stdout",
     "output_type": "stream",
     "text": [
      "Sending email 27/228:\n"
     ]
    },
    {
     "name": "stderr",
     "output_type": "stream",
     "text": [
      "[INFO] Message Id: 199dfb865c20f2f6 sent.\n"
     ]
    },
    {
     "name": "stdout",
     "output_type": "stream",
     "text": [
      "Sending email 28/228:\n"
     ]
    },
    {
     "name": "stderr",
     "output_type": "stream",
     "text": [
      "[INFO] Message Id: 199dfb8694d28bdf sent.\n"
     ]
    },
    {
     "name": "stdout",
     "output_type": "stream",
     "text": [
      "Sending email 29/228:\n"
     ]
    },
    {
     "name": "stderr",
     "output_type": "stream",
     "text": [
      "[INFO] Message Id: 199dfb86b6885a3b sent.\n"
     ]
    },
    {
     "name": "stdout",
     "output_type": "stream",
     "text": [
      "Sending email 30/228:\n"
     ]
    },
    {
     "name": "stderr",
     "output_type": "stream",
     "text": [
      "[INFO] Message Id: 199dfb86db0035aa sent.\n"
     ]
    },
    {
     "name": "stdout",
     "output_type": "stream",
     "text": [
      "Sending email 31/228:\n"
     ]
    },
    {
     "name": "stderr",
     "output_type": "stream",
     "text": [
      "[INFO] Message Id: 199dfb871b5d298a sent.\n"
     ]
    },
    {
     "name": "stdout",
     "output_type": "stream",
     "text": [
      "Sending email 32/228:\n"
     ]
    },
    {
     "name": "stderr",
     "output_type": "stream",
     "text": [
      "[INFO] Message Id: 199dfb873e6fdf11 sent.\n"
     ]
    },
    {
     "name": "stdout",
     "output_type": "stream",
     "text": [
      "Sending email 33/228:\n"
     ]
    },
    {
     "name": "stderr",
     "output_type": "stream",
     "text": [
      "[INFO] Message Id: 199dfb87625c3f7e sent.\n"
     ]
    },
    {
     "name": "stdout",
     "output_type": "stream",
     "text": [
      "Sending email 34/228:\n"
     ]
    },
    {
     "name": "stderr",
     "output_type": "stream",
     "text": [
      "[INFO] Message Id: 199dfb879f7360a2 sent.\n"
     ]
    },
    {
     "name": "stdout",
     "output_type": "stream",
     "text": [
      "Sending email 35/228:\n"
     ]
    },
    {
     "name": "stderr",
     "output_type": "stream",
     "text": [
      "[INFO] Message Id: 199dfb87c3701dba sent.\n"
     ]
    },
    {
     "name": "stdout",
     "output_type": "stream",
     "text": [
      "Sending email 36/228:\n"
     ]
    },
    {
     "name": "stderr",
     "output_type": "stream",
     "text": [
      "[INFO] Message Id: 199dfb87fbd8b820 sent.\n"
     ]
    },
    {
     "name": "stdout",
     "output_type": "stream",
     "text": [
      "Sending email 37/228:\n"
     ]
    },
    {
     "name": "stderr",
     "output_type": "stream",
     "text": [
      "[INFO] Message Id: 199dfb8801d343ef sent.\n"
     ]
    },
    {
     "name": "stdout",
     "output_type": "stream",
     "text": [
      "Sending email 38/228:\n"
     ]
    },
    {
     "name": "stderr",
     "output_type": "stream",
     "text": [
      "[INFO] Message Id: 199dfb8843e3443d sent.\n"
     ]
    },
    {
     "name": "stdout",
     "output_type": "stream",
     "text": [
      "Sending email 39/228:\n"
     ]
    },
    {
     "name": "stderr",
     "output_type": "stream",
     "text": [
      "[INFO] Message Id: 199dfb886044d110 sent.\n"
     ]
    },
    {
     "name": "stdout",
     "output_type": "stream",
     "text": [
      "Sending email 40/228:\n"
     ]
    },
    {
     "name": "stderr",
     "output_type": "stream",
     "text": [
      "[INFO] Message Id: 199dfb889e9fe99e sent.\n"
     ]
    },
    {
     "name": "stdout",
     "output_type": "stream",
     "text": [
      "Sending email 41/228:\n"
     ]
    },
    {
     "name": "stderr",
     "output_type": "stream",
     "text": [
      "[INFO] Message Id: 199dfb88c1bae016 sent.\n"
     ]
    },
    {
     "name": "stdout",
     "output_type": "stream",
     "text": [
      "Sending email 42/228:\n"
     ]
    },
    {
     "name": "stderr",
     "output_type": "stream",
     "text": [
      "[INFO] Message Id: 199dfb88fd3db0c5 sent.\n"
     ]
    },
    {
     "name": "stdout",
     "output_type": "stream",
     "text": [
      "Sending email 43/228:\n"
     ]
    },
    {
     "name": "stderr",
     "output_type": "stream",
     "text": [
      "[INFO] Message Id: 199dfb892b430ba5 sent.\n"
     ]
    },
    {
     "name": "stdout",
     "output_type": "stream",
     "text": [
      "Sending email 44/228:\n"
     ]
    },
    {
     "name": "stderr",
     "output_type": "stream",
     "text": [
      "[INFO] Message Id: 199dfb895616e934 sent.\n"
     ]
    },
    {
     "name": "stdout",
     "output_type": "stream",
     "text": [
      "Sending email 45/228:\n"
     ]
    },
    {
     "name": "stderr",
     "output_type": "stream",
     "text": [
      "[INFO] Message Id: 199dfb89756781f3 sent.\n"
     ]
    },
    {
     "name": "stdout",
     "output_type": "stream",
     "text": [
      "Sending email 46/228:\n"
     ]
    },
    {
     "name": "stderr",
     "output_type": "stream",
     "text": [
      "[INFO] Message Id: 199dfb89bf6b6929 sent.\n"
     ]
    },
    {
     "name": "stdout",
     "output_type": "stream",
     "text": [
      "Sending email 47/228:\n"
     ]
    },
    {
     "name": "stderr",
     "output_type": "stream",
     "text": [
      "[INFO] Message Id: 199dfb89cc164f25 sent.\n"
     ]
    },
    {
     "name": "stdout",
     "output_type": "stream",
     "text": [
      "Sending email 48/228:\n"
     ]
    },
    {
     "name": "stderr",
     "output_type": "stream",
     "text": [
      "[INFO] Message Id: 199dfb8a0d9a1203 sent.\n"
     ]
    },
    {
     "name": "stdout",
     "output_type": "stream",
     "text": [
      "Sending email 49/228:\n"
     ]
    },
    {
     "name": "stderr",
     "output_type": "stream",
     "text": [
      "[INFO] Message Id: 199dfb8a30459bd0 sent.\n"
     ]
    },
    {
     "name": "stdout",
     "output_type": "stream",
     "text": [
      "Sending email 50/228:\n"
     ]
    },
    {
     "name": "stderr",
     "output_type": "stream",
     "text": [
      "[INFO] Message Id: 199dfb8a426142f5 sent.\n"
     ]
    },
    {
     "name": "stdout",
     "output_type": "stream",
     "text": [
      "Sending email 51/228:\n"
     ]
    },
    {
     "name": "stderr",
     "output_type": "stream",
     "text": [
      "[INFO] Message Id: 199dfb8a9334ae97 sent.\n"
     ]
    },
    {
     "name": "stdout",
     "output_type": "stream",
     "text": [
      "Sending email 52/228:\n"
     ]
    },
    {
     "name": "stderr",
     "output_type": "stream",
     "text": [
      "[INFO] Message Id: 199dfb8aa8ae505e sent.\n"
     ]
    },
    {
     "name": "stdout",
     "output_type": "stream",
     "text": [
      "Sending email 53/228:\n"
     ]
    },
    {
     "name": "stderr",
     "output_type": "stream",
     "text": [
      "[INFO] Message Id: 199dfb8ac0a2ea48 sent.\n"
     ]
    },
    {
     "name": "stdout",
     "output_type": "stream",
     "text": [
      "Sending email 54/228:\n"
     ]
    },
    {
     "name": "stderr",
     "output_type": "stream",
     "text": [
      "[INFO] Message Id: 199dfb8b0695c375 sent.\n"
     ]
    },
    {
     "name": "stdout",
     "output_type": "stream",
     "text": [
      "Sending email 55/228:\n"
     ]
    },
    {
     "name": "stderr",
     "output_type": "stream",
     "text": [
      "[INFO] Message Id: 199dfb8b2fd2e20e sent.\n"
     ]
    },
    {
     "name": "stdout",
     "output_type": "stream",
     "text": [
      "Sending email 56/228:\n"
     ]
    },
    {
     "name": "stderr",
     "output_type": "stream",
     "text": [
      "[INFO] Message Id: 199dfb8b4369732c sent.\n"
     ]
    },
    {
     "name": "stdout",
     "output_type": "stream",
     "text": [
      "Sending email 57/228:\n"
     ]
    },
    {
     "name": "stderr",
     "output_type": "stream",
     "text": [
      "[INFO] Message Id: 199dfb8b84bd382c sent.\n"
     ]
    },
    {
     "name": "stdout",
     "output_type": "stream",
     "text": [
      "Sending email 58/228:\n"
     ]
    },
    {
     "name": "stderr",
     "output_type": "stream",
     "text": [
      "[INFO] Message Id: 199dfb8bb6a93563 sent.\n"
     ]
    },
    {
     "name": "stdout",
     "output_type": "stream",
     "text": [
      "Sending email 59/228:\n"
     ]
    },
    {
     "name": "stderr",
     "output_type": "stream",
     "text": [
      "[INFO] Message Id: 199dfb8bc8a9a152 sent.\n"
     ]
    },
    {
     "name": "stdout",
     "output_type": "stream",
     "text": [
      "Sending email 60/228:\n"
     ]
    },
    {
     "name": "stderr",
     "output_type": "stream",
     "text": [
      "[INFO] Message Id: 199dfb8c177529e1 sent.\n"
     ]
    },
    {
     "name": "stdout",
     "output_type": "stream",
     "text": [
      "Sending email 61/228:\n"
     ]
    },
    {
     "name": "stderr",
     "output_type": "stream",
     "text": [
      "[INFO] Message Id: 199dfb8c3efa0b58 sent.\n"
     ]
    },
    {
     "name": "stdout",
     "output_type": "stream",
     "text": [
      "Sending email 62/228:\n"
     ]
    },
    {
     "name": "stderr",
     "output_type": "stream",
     "text": [
      "[INFO] Message Id: 199dfb8c6144306f sent.\n"
     ]
    },
    {
     "name": "stdout",
     "output_type": "stream",
     "text": [
      "Sending email 63/228:\n"
     ]
    },
    {
     "name": "stderr",
     "output_type": "stream",
     "text": [
      "[INFO] Message Id: 199dfb8c9b5fda45 sent.\n"
     ]
    },
    {
     "name": "stdout",
     "output_type": "stream",
     "text": [
      "Sending email 64/228:\n"
     ]
    },
    {
     "name": "stderr",
     "output_type": "stream",
     "text": [
      "[INFO] Message Id: 199dfb8cb670a898 sent.\n"
     ]
    },
    {
     "name": "stdout",
     "output_type": "stream",
     "text": [
      "Sending email 65/228:\n"
     ]
    },
    {
     "name": "stderr",
     "output_type": "stream",
     "text": [
      "[INFO] Message Id: 199dfb8cdd88345f sent.\n"
     ]
    },
    {
     "name": "stdout",
     "output_type": "stream",
     "text": [
      "Sending email 66/228:\n"
     ]
    },
    {
     "name": "stderr",
     "output_type": "stream",
     "text": [
      "[INFO] Message Id: 199dfb8d004552c6 sent.\n"
     ]
    },
    {
     "name": "stdout",
     "output_type": "stream",
     "text": [
      "Sending email 67/228:\n"
     ]
    },
    {
     "name": "stderr",
     "output_type": "stream",
     "text": [
      "[INFO] Message Id: 199dfb8d2f2cb6c9 sent.\n"
     ]
    },
    {
     "name": "stdout",
     "output_type": "stream",
     "text": [
      "Sending email 68/228:\n"
     ]
    },
    {
     "name": "stderr",
     "output_type": "stream",
     "text": [
      "[INFO] Message Id: 199dfb8d529f8465 sent.\n"
     ]
    },
    {
     "name": "stdout",
     "output_type": "stream",
     "text": [
      "Sending email 69/228:\n"
     ]
    },
    {
     "name": "stderr",
     "output_type": "stream",
     "text": [
      "[INFO] Message Id: 199dfb8d85dc9fcd sent.\n"
     ]
    },
    {
     "name": "stdout",
     "output_type": "stream",
     "text": [
      "Sending email 70/228:\n"
     ]
    },
    {
     "name": "stderr",
     "output_type": "stream",
     "text": [
      "[INFO] Message Id: 199dfb8da9715af1 sent.\n"
     ]
    },
    {
     "name": "stdout",
     "output_type": "stream",
     "text": [
      "Sending email 71/228:\n"
     ]
    },
    {
     "name": "stderr",
     "output_type": "stream",
     "text": [
      "[INFO] Message Id: 199dfb8dc24d044d sent.\n"
     ]
    },
    {
     "name": "stdout",
     "output_type": "stream",
     "text": [
      "Sending email 72/228:\n"
     ]
    },
    {
     "name": "stderr",
     "output_type": "stream",
     "text": [
      "[INFO] Message Id: 199dfb8de27b4c8f sent.\n"
     ]
    },
    {
     "name": "stdout",
     "output_type": "stream",
     "text": [
      "Sending email 73/228:\n"
     ]
    },
    {
     "name": "stderr",
     "output_type": "stream",
     "text": [
      "[INFO] Message Id: 199dfb8e2ecf120b sent.\n"
     ]
    },
    {
     "name": "stdout",
     "output_type": "stream",
     "text": [
      "Sending email 74/228:\n"
     ]
    },
    {
     "name": "stderr",
     "output_type": "stream",
     "text": [
      "[INFO] Message Id: 199dfb8e5d26e216 sent.\n"
     ]
    },
    {
     "name": "stdout",
     "output_type": "stream",
     "text": [
      "Sending email 75/228:\n"
     ]
    },
    {
     "name": "stderr",
     "output_type": "stream",
     "text": [
      "[INFO] Message Id: 199dfb8e7326b3b6 sent.\n"
     ]
    },
    {
     "name": "stdout",
     "output_type": "stream",
     "text": [
      "Sending email 76/228:\n"
     ]
    },
    {
     "name": "stderr",
     "output_type": "stream",
     "text": [
      "[INFO] Message Id: 199dfb8e87da5e2b sent.\n"
     ]
    },
    {
     "name": "stdout",
     "output_type": "stream",
     "text": [
      "Sending email 77/228:\n"
     ]
    },
    {
     "name": "stderr",
     "output_type": "stream",
     "text": [
      "[INFO] Message Id: 199dfb8ec38be3cf sent.\n"
     ]
    },
    {
     "name": "stdout",
     "output_type": "stream",
     "text": [
      "Sending email 78/228:\n"
     ]
    },
    {
     "name": "stderr",
     "output_type": "stream",
     "text": [
      "[INFO] Message Id: 199dfb8ef4b3a265 sent.\n"
     ]
    },
    {
     "name": "stdout",
     "output_type": "stream",
     "text": [
      "Sending email 79/228:\n"
     ]
    },
    {
     "name": "stderr",
     "output_type": "stream",
     "text": [
      "[INFO] Message Id: 199dfb8f25d4e7ba sent.\n"
     ]
    },
    {
     "name": "stdout",
     "output_type": "stream",
     "text": [
      "Sending email 80/228:\n"
     ]
    },
    {
     "name": "stderr",
     "output_type": "stream",
     "text": [
      "[INFO] Message Id: 199dfb8f5b8cf245 sent.\n"
     ]
    },
    {
     "name": "stdout",
     "output_type": "stream",
     "text": [
      "Sending email 81/228:\n"
     ]
    },
    {
     "name": "stderr",
     "output_type": "stream",
     "text": [
      "[INFO] Message Id: 199dfb8f7c9731b3 sent.\n"
     ]
    },
    {
     "name": "stdout",
     "output_type": "stream",
     "text": [
      "Sending email 82/228:\n"
     ]
    },
    {
     "name": "stderr",
     "output_type": "stream",
     "text": [
      "[INFO] Message Id: 199dfb8f91ff42b9 sent.\n"
     ]
    },
    {
     "name": "stdout",
     "output_type": "stream",
     "text": [
      "Sending email 83/228:\n"
     ]
    },
    {
     "name": "stderr",
     "output_type": "stream",
     "text": [
      "[INFO] Message Id: 199dfb90056f222a sent.\n"
     ]
    },
    {
     "name": "stdout",
     "output_type": "stream",
     "text": [
      "Sending email 84/228:\n"
     ]
    },
    {
     "name": "stderr",
     "output_type": "stream",
     "text": [
      "[INFO] Message Id: 199dfb905d961242 sent.\n"
     ]
    },
    {
     "name": "stdout",
     "output_type": "stream",
     "text": [
      "Sending email 85/228:\n"
     ]
    },
    {
     "name": "stderr",
     "output_type": "stream",
     "text": [
      "[INFO] Message Id: 199dfb9090a556a8 sent.\n"
     ]
    },
    {
     "name": "stdout",
     "output_type": "stream",
     "text": [
      "Sending email 86/228:\n"
     ]
    },
    {
     "name": "stderr",
     "output_type": "stream",
     "text": [
      "[INFO] Message Id: 199dfb90d8244817 sent.\n"
     ]
    },
    {
     "name": "stdout",
     "output_type": "stream",
     "text": [
      "Sending email 87/228:\n"
     ]
    },
    {
     "name": "stderr",
     "output_type": "stream",
     "text": [
      "[INFO] Message Id: 199dfb9102580574 sent.\n"
     ]
    },
    {
     "name": "stdout",
     "output_type": "stream",
     "text": [
      "Sending email 88/228:\n"
     ]
    },
    {
     "name": "stderr",
     "output_type": "stream",
     "text": [
      "[INFO] Message Id: 199dfb9125f04eb2 sent.\n"
     ]
    },
    {
     "name": "stdout",
     "output_type": "stream",
     "text": [
      "Sending email 89/228:\n"
     ]
    },
    {
     "name": "stderr",
     "output_type": "stream",
     "text": [
      "[INFO] Message Id: 199dfb917030206d sent.\n"
     ]
    },
    {
     "name": "stdout",
     "output_type": "stream",
     "text": [
      "Sending email 90/228:\n"
     ]
    },
    {
     "name": "stderr",
     "output_type": "stream",
     "text": [
      "[INFO] Message Id: 199dfb918e613c76 sent.\n"
     ]
    },
    {
     "name": "stdout",
     "output_type": "stream",
     "text": [
      "Sending email 91/228:\n"
     ]
    },
    {
     "name": "stderr",
     "output_type": "stream",
     "text": [
      "[INFO] Message Id: 199dfb91d46f8983 sent.\n"
     ]
    },
    {
     "name": "stdout",
     "output_type": "stream",
     "text": [
      "Sending email 92/228:\n"
     ]
    },
    {
     "name": "stderr",
     "output_type": "stream",
     "text": [
      "[INFO] Message Id: 199dfb91fcae7277 sent.\n"
     ]
    },
    {
     "name": "stdout",
     "output_type": "stream",
     "text": [
      "Sending email 93/228:\n"
     ]
    },
    {
     "name": "stderr",
     "output_type": "stream",
     "text": [
      "[INFO] Message Id: 199dfb923d805f69 sent.\n"
     ]
    },
    {
     "name": "stdout",
     "output_type": "stream",
     "text": [
      "Sending email 94/228:\n"
     ]
    },
    {
     "name": "stderr",
     "output_type": "stream",
     "text": [
      "[INFO] Message Id: 199dfb927648a8c5 sent.\n"
     ]
    },
    {
     "name": "stdout",
     "output_type": "stream",
     "text": [
      "Sending email 95/228:\n"
     ]
    },
    {
     "name": "stderr",
     "output_type": "stream",
     "text": [
      "[INFO] Message Id: 199dfb92ad05afda sent.\n"
     ]
    },
    {
     "name": "stdout",
     "output_type": "stream",
     "text": [
      "Sending email 96/228:\n"
     ]
    },
    {
     "name": "stderr",
     "output_type": "stream",
     "text": [
      "[INFO] Message Id: 199dfb92c12808dc sent.\n"
     ]
    },
    {
     "name": "stdout",
     "output_type": "stream",
     "text": [
      "Sending email 97/228:\n"
     ]
    },
    {
     "name": "stderr",
     "output_type": "stream",
     "text": [
      "[INFO] Message Id: 199dfb93091762c8 sent.\n"
     ]
    },
    {
     "name": "stdout",
     "output_type": "stream",
     "text": [
      "Sending email 98/228:\n"
     ]
    },
    {
     "name": "stderr",
     "output_type": "stream",
     "text": [
      "[INFO] Message Id: 199dfb9340732b51 sent.\n"
     ]
    },
    {
     "name": "stdout",
     "output_type": "stream",
     "text": [
      "Sending email 99/228:\n"
     ]
    },
    {
     "name": "stderr",
     "output_type": "stream",
     "text": [
      "[INFO] Message Id: 199dfb939e545439 sent.\n"
     ]
    },
    {
     "name": "stdout",
     "output_type": "stream",
     "text": [
      "Sending email 100/228:\n"
     ]
    },
    {
     "name": "stderr",
     "output_type": "stream",
     "text": [
      "[INFO] Message Id: 199dfb93e158bf7a sent.\n"
     ]
    },
    {
     "name": "stdout",
     "output_type": "stream",
     "text": [
      "Sending email 101/228:\n"
     ]
    },
    {
     "name": "stderr",
     "output_type": "stream",
     "text": [
      "[INFO] Message Id: 199dfb946cd86284 sent.\n"
     ]
    },
    {
     "name": "stdout",
     "output_type": "stream",
     "text": [
      "Sending email 102/228:\n"
     ]
    },
    {
     "name": "stderr",
     "output_type": "stream",
     "text": [
      "[INFO] Message Id: 199dfb949e03e0b9 sent.\n"
     ]
    },
    {
     "name": "stdout",
     "output_type": "stream",
     "text": [
      "Sending email 103/228:\n"
     ]
    },
    {
     "name": "stderr",
     "output_type": "stream",
     "text": [
      "[INFO] Message Id: 199dfb94d7269821 sent.\n"
     ]
    },
    {
     "name": "stdout",
     "output_type": "stream",
     "text": [
      "Sending email 104/228:\n"
     ]
    },
    {
     "name": "stderr",
     "output_type": "stream",
     "text": [
      "[INFO] Message Id: 199dfb953804e9b9 sent.\n"
     ]
    },
    {
     "name": "stdout",
     "output_type": "stream",
     "text": [
      "Sending email 105/228:\n"
     ]
    },
    {
     "name": "stderr",
     "output_type": "stream",
     "text": [
      "[INFO] Message Id: 199dfb95534ebc48 sent.\n"
     ]
    },
    {
     "name": "stdout",
     "output_type": "stream",
     "text": [
      "Sending email 106/228:\n"
     ]
    },
    {
     "name": "stderr",
     "output_type": "stream",
     "text": [
      "[INFO] Message Id: 199dfb95be873404 sent.\n"
     ]
    },
    {
     "name": "stdout",
     "output_type": "stream",
     "text": [
      "Sending email 107/228:\n"
     ]
    },
    {
     "name": "stderr",
     "output_type": "stream",
     "text": [
      "[INFO] Message Id: 199dfb95cdf45f0a sent.\n"
     ]
    },
    {
     "name": "stdout",
     "output_type": "stream",
     "text": [
      "Sending email 108/228:\n"
     ]
    },
    {
     "name": "stderr",
     "output_type": "stream",
     "text": [
      "[INFO] Message Id: 199dfb960bb77dea sent.\n"
     ]
    },
    {
     "name": "stdout",
     "output_type": "stream",
     "text": [
      "Sending email 109/228:\n"
     ]
    },
    {
     "name": "stderr",
     "output_type": "stream",
     "text": [
      "[INFO] Message Id: 199dfb962074664a sent.\n"
     ]
    },
    {
     "name": "stdout",
     "output_type": "stream",
     "text": [
      "Sending email 110/228:\n"
     ]
    },
    {
     "name": "stderr",
     "output_type": "stream",
     "text": [
      "[INFO] Message Id: 199dfb968baf6f4a sent.\n"
     ]
    },
    {
     "name": "stdout",
     "output_type": "stream",
     "text": [
      "Sending email 111/228:\n"
     ]
    },
    {
     "name": "stderr",
     "output_type": "stream",
     "text": [
      "[INFO] Message Id: 199dfb96d099c6bf sent.\n"
     ]
    },
    {
     "name": "stdout",
     "output_type": "stream",
     "text": [
      "Sending email 112/228:\n"
     ]
    },
    {
     "name": "stderr",
     "output_type": "stream",
     "text": [
      "[INFO] Message Id: 199dfb970579135a sent.\n"
     ]
    },
    {
     "name": "stdout",
     "output_type": "stream",
     "text": [
      "Sending email 113/228:\n"
     ]
    },
    {
     "name": "stderr",
     "output_type": "stream",
     "text": [
      "[INFO] Message Id: 199dfb9748750f6e sent.\n"
     ]
    },
    {
     "name": "stdout",
     "output_type": "stream",
     "text": [
      "Sending email 114/228:\n"
     ]
    },
    {
     "name": "stderr",
     "output_type": "stream",
     "text": [
      "[INFO] Message Id: 199dfb9798820b0d sent.\n"
     ]
    },
    {
     "name": "stdout",
     "output_type": "stream",
     "text": [
      "Sending email 115/228:\n"
     ]
    },
    {
     "name": "stderr",
     "output_type": "stream",
     "text": [
      "[INFO] Message Id: 199dfb97d28b1bab sent.\n"
     ]
    },
    {
     "name": "stdout",
     "output_type": "stream",
     "text": [
      "Sending email 116/228:\n"
     ]
    },
    {
     "name": "stderr",
     "output_type": "stream",
     "text": [
      "[INFO] Message Id: 199dfb9806d0a37e sent.\n"
     ]
    },
    {
     "name": "stdout",
     "output_type": "stream",
     "text": [
      "Sending email 117/228:\n"
     ]
    },
    {
     "name": "stderr",
     "output_type": "stream",
     "text": [
      "[INFO] Message Id: 199dfb983164fe7b sent.\n"
     ]
    },
    {
     "name": "stdout",
     "output_type": "stream",
     "text": [
      "Sending email 118/228:\n"
     ]
    },
    {
     "name": "stderr",
     "output_type": "stream",
     "text": [
      "[INFO] Message Id: 199dfb987736d66b sent.\n"
     ]
    },
    {
     "name": "stdout",
     "output_type": "stream",
     "text": [
      "Sending email 119/228:\n"
     ]
    },
    {
     "name": "stderr",
     "output_type": "stream",
     "text": [
      "[INFO] Message Id: 199dfb98a70568f1 sent.\n"
     ]
    },
    {
     "name": "stdout",
     "output_type": "stream",
     "text": [
      "Sending email 120/228:\n"
     ]
    },
    {
     "name": "stderr",
     "output_type": "stream",
     "text": [
      "[INFO] Message Id: 199dfb990141dd12 sent.\n"
     ]
    },
    {
     "name": "stdout",
     "output_type": "stream",
     "text": [
      "Sending email 121/228:\n"
     ]
    },
    {
     "name": "stderr",
     "output_type": "stream",
     "text": [
      "[INFO] Message Id: 199dfb994cfa0b9e sent.\n"
     ]
    },
    {
     "name": "stdout",
     "output_type": "stream",
     "text": [
      "Sending email 122/228:\n"
     ]
    },
    {
     "name": "stderr",
     "output_type": "stream",
     "text": [
      "[INFO] Message Id: 199dfb999714fab0 sent.\n"
     ]
    },
    {
     "name": "stdout",
     "output_type": "stream",
     "text": [
      "Sending email 123/228:\n"
     ]
    },
    {
     "name": "stderr",
     "output_type": "stream",
     "text": [
      "[INFO] Message Id: 199dfb99d98210fa sent.\n"
     ]
    },
    {
     "name": "stdout",
     "output_type": "stream",
     "text": [
      "Sending email 124/228:\n"
     ]
    },
    {
     "name": "stderr",
     "output_type": "stream",
     "text": [
      "[INFO] Message Id: 199dfb99e82dc22b sent.\n"
     ]
    },
    {
     "name": "stdout",
     "output_type": "stream",
     "text": [
      "Sending email 125/228:\n"
     ]
    },
    {
     "name": "stderr",
     "output_type": "stream",
     "text": [
      "[INFO] Message Id: 199dfb9a22f33641 sent.\n"
     ]
    },
    {
     "name": "stdout",
     "output_type": "stream",
     "text": [
      "Sending email 126/228:\n"
     ]
    },
    {
     "name": "stderr",
     "output_type": "stream",
     "text": [
      "[INFO] Message Id: 199dfb9a90455871 sent.\n"
     ]
    },
    {
     "name": "stdout",
     "output_type": "stream",
     "text": [
      "Sending email 127/228:\n"
     ]
    },
    {
     "name": "stderr",
     "output_type": "stream",
     "text": [
      "[INFO] Message Id: 199dfb9ae48b4b8d sent.\n"
     ]
    },
    {
     "name": "stdout",
     "output_type": "stream",
     "text": [
      "Sending email 128/228:\n"
     ]
    },
    {
     "name": "stderr",
     "output_type": "stream",
     "text": [
      "[INFO] Message Id: 199dfb9b18c5d799 sent.\n"
     ]
    },
    {
     "name": "stdout",
     "output_type": "stream",
     "text": [
      "Sending email 129/228:\n"
     ]
    },
    {
     "name": "stderr",
     "output_type": "stream",
     "text": [
      "[INFO] Message Id: 199dfb9b41b6d40e sent.\n"
     ]
    },
    {
     "name": "stdout",
     "output_type": "stream",
     "text": [
      "Sending email 130/228:\n"
     ]
    },
    {
     "name": "stderr",
     "output_type": "stream",
     "text": [
      "[INFO] Message Id: 199dfb9b82051966 sent.\n"
     ]
    },
    {
     "name": "stdout",
     "output_type": "stream",
     "text": [
      "Sending email 131/228:\n"
     ]
    },
    {
     "name": "stderr",
     "output_type": "stream",
     "text": [
      "[INFO] Message Id: 199dfb9bd046da47 sent.\n"
     ]
    },
    {
     "name": "stdout",
     "output_type": "stream",
     "text": [
      "Sending email 132/228:\n"
     ]
    },
    {
     "name": "stderr",
     "output_type": "stream",
     "text": [
      "[INFO] Message Id: 199dfb9c110a7259 sent.\n"
     ]
    },
    {
     "name": "stdout",
     "output_type": "stream",
     "text": [
      "Sending email 133/228:\n"
     ]
    },
    {
     "name": "stderr",
     "output_type": "stream",
     "text": [
      "[INFO] Message Id: 199dfb9c614514fd sent.\n"
     ]
    },
    {
     "name": "stdout",
     "output_type": "stream",
     "text": [
      "Sending email 134/228:\n"
     ]
    },
    {
     "name": "stderr",
     "output_type": "stream",
     "text": [
      "[INFO] Message Id: 199dfb9c95bf2d3d sent.\n"
     ]
    },
    {
     "name": "stdout",
     "output_type": "stream",
     "text": [
      "Sending email 135/228:\n"
     ]
    },
    {
     "name": "stderr",
     "output_type": "stream",
     "text": [
      "[INFO] Message Id: 199dfb9cc60b6dec sent.\n"
     ]
    },
    {
     "name": "stdout",
     "output_type": "stream",
     "text": [
      "Sending email 136/228:\n"
     ]
    },
    {
     "name": "stderr",
     "output_type": "stream",
     "text": [
      "[INFO] Message Id: 199dfb9d0fc10060 sent.\n"
     ]
    },
    {
     "name": "stdout",
     "output_type": "stream",
     "text": [
      "Sending email 137/228:\n"
     ]
    },
    {
     "name": "stderr",
     "output_type": "stream",
     "text": [
      "[INFO] Message Id: 199dfb9d4982264b sent.\n"
     ]
    },
    {
     "name": "stdout",
     "output_type": "stream",
     "text": [
      "Sending email 138/228:\n"
     ]
    },
    {
     "name": "stderr",
     "output_type": "stream",
     "text": [
      "[INFO] Message Id: 199dfb9d8b6599c1 sent.\n"
     ]
    },
    {
     "name": "stdout",
     "output_type": "stream",
     "text": [
      "Sending email 139/228:\n"
     ]
    },
    {
     "name": "stderr",
     "output_type": "stream",
     "text": [
      "[INFO] Message Id: 199dfb9dc3fff452 sent.\n"
     ]
    },
    {
     "name": "stdout",
     "output_type": "stream",
     "text": [
      "Sending email 140/228:\n"
     ]
    },
    {
     "name": "stderr",
     "output_type": "stream",
     "text": [
      "[INFO] Message Id: 199dfb9e12e2a846 sent.\n"
     ]
    },
    {
     "name": "stdout",
     "output_type": "stream",
     "text": [
      "Sending email 141/228:\n"
     ]
    },
    {
     "name": "stderr",
     "output_type": "stream",
     "text": [
      "[INFO] Message Id: 199dfb9e5469cae4 sent.\n"
     ]
    },
    {
     "name": "stdout",
     "output_type": "stream",
     "text": [
      "Sending email 142/228:\n"
     ]
    },
    {
     "name": "stderr",
     "output_type": "stream",
     "text": [
      "[INFO] Message Id: 199dfb9e740533e1 sent.\n"
     ]
    },
    {
     "name": "stdout",
     "output_type": "stream",
     "text": [
      "Sending email 143/228:\n"
     ]
    },
    {
     "name": "stderr",
     "output_type": "stream",
     "text": [
      "[INFO] Message Id: 199dfb9ebf2a3509 sent.\n"
     ]
    },
    {
     "name": "stdout",
     "output_type": "stream",
     "text": [
      "Sending email 144/228:\n"
     ]
    },
    {
     "name": "stderr",
     "output_type": "stream",
     "text": [
      "[INFO] Message Id: 199dfb9f1f4b3e06 sent.\n"
     ]
    },
    {
     "name": "stdout",
     "output_type": "stream",
     "text": [
      "Sending email 145/228:\n"
     ]
    },
    {
     "name": "stderr",
     "output_type": "stream",
     "text": [
      "[INFO] Message Id: 199dfb9f5ad0bc52 sent.\n"
     ]
    },
    {
     "name": "stdout",
     "output_type": "stream",
     "text": [
      "Sending email 146/228:\n"
     ]
    },
    {
     "name": "stderr",
     "output_type": "stream",
     "text": [
      "[INFO] Message Id: 199dfb9f8d40343b sent.\n"
     ]
    },
    {
     "name": "stdout",
     "output_type": "stream",
     "text": [
      "Sending email 147/228:\n"
     ]
    },
    {
     "name": "stderr",
     "output_type": "stream",
     "text": [
      "[INFO] Message Id: 199dfb9fe7006bbb sent.\n"
     ]
    },
    {
     "name": "stdout",
     "output_type": "stream",
     "text": [
      "Sending email 148/228:\n"
     ]
    },
    {
     "name": "stderr",
     "output_type": "stream",
     "text": [
      "[INFO] Message Id: 199dfba03058657c sent.\n"
     ]
    },
    {
     "name": "stdout",
     "output_type": "stream",
     "text": [
      "Sending email 149/228:\n"
     ]
    },
    {
     "name": "stderr",
     "output_type": "stream",
     "text": [
      "[INFO] Message Id: 199dfba078fb8ed7 sent.\n"
     ]
    },
    {
     "name": "stdout",
     "output_type": "stream",
     "text": [
      "Sending email 150/228:\n"
     ]
    },
    {
     "name": "stderr",
     "output_type": "stream",
     "text": [
      "[INFO] Message Id: 199dfba0bca9a91d sent.\n"
     ]
    },
    {
     "name": "stdout",
     "output_type": "stream",
     "text": [
      "Sending email 151/228:\n"
     ]
    },
    {
     "name": "stderr",
     "output_type": "stream",
     "text": [
      "[INFO] Message Id: 199dfba0f4116a72 sent.\n"
     ]
    },
    {
     "name": "stdout",
     "output_type": "stream",
     "text": [
      "Sending email 152/228:\n"
     ]
    },
    {
     "name": "stderr",
     "output_type": "stream",
     "text": [
      "[INFO] Message Id: 199dfba12b4655d7 sent.\n"
     ]
    },
    {
     "name": "stdout",
     "output_type": "stream",
     "text": [
      "Sending email 153/228:\n"
     ]
    },
    {
     "name": "stderr",
     "output_type": "stream",
     "text": [
      "[INFO] Message Id: 199dfba1730a77d1 sent.\n"
     ]
    },
    {
     "name": "stdout",
     "output_type": "stream",
     "text": [
      "Sending email 154/228:\n"
     ]
    },
    {
     "name": "stderr",
     "output_type": "stream",
     "text": [
      "[INFO] Message Id: 199dfba182d6b515 sent.\n"
     ]
    },
    {
     "name": "stdout",
     "output_type": "stream",
     "text": [
      "Sending email 155/228:\n"
     ]
    },
    {
     "name": "stderr",
     "output_type": "stream",
     "text": [
      "[INFO] Message Id: 199dfba1fb763c2f sent.\n"
     ]
    },
    {
     "name": "stdout",
     "output_type": "stream",
     "text": [
      "Sending email 156/228:\n"
     ]
    },
    {
     "name": "stderr",
     "output_type": "stream",
     "text": [
      "[INFO] Message Id: 199dfba21698704e sent.\n"
     ]
    },
    {
     "name": "stdout",
     "output_type": "stream",
     "text": [
      "Sending email 157/228:\n"
     ]
    },
    {
     "name": "stderr",
     "output_type": "stream",
     "text": [
      "[INFO] Message Id: 199dfba2476bed4c sent.\n"
     ]
    },
    {
     "name": "stdout",
     "output_type": "stream",
     "text": [
      "Sending email 158/228:\n"
     ]
    },
    {
     "name": "stderr",
     "output_type": "stream",
     "text": [
      "[INFO] Message Id: 199dfba2bd4687b0 sent.\n"
     ]
    },
    {
     "name": "stdout",
     "output_type": "stream",
     "text": [
      "Sending email 159/228:\n"
     ]
    },
    {
     "name": "stderr",
     "output_type": "stream",
     "text": [
      "[INFO] Message Id: 199dfba2f2ece304 sent.\n"
     ]
    },
    {
     "name": "stdout",
     "output_type": "stream",
     "text": [
      "Sending email 160/228:\n"
     ]
    },
    {
     "name": "stderr",
     "output_type": "stream",
     "text": [
      "[INFO] Message Id: 199dfba330e01dbd sent.\n"
     ]
    },
    {
     "name": "stdout",
     "output_type": "stream",
     "text": [
      "Sending email 161/228:\n"
     ]
    },
    {
     "name": "stderr",
     "output_type": "stream",
     "text": [
      "[INFO] Message Id: 199dfba372bf96d0 sent.\n"
     ]
    },
    {
     "name": "stdout",
     "output_type": "stream",
     "text": [
      "Sending email 162/228:\n"
     ]
    },
    {
     "name": "stderr",
     "output_type": "stream",
     "text": [
      "[INFO] Message Id: 199dfba3b20362fd sent.\n"
     ]
    },
    {
     "name": "stdout",
     "output_type": "stream",
     "text": [
      "Sending email 163/228:\n"
     ]
    },
    {
     "name": "stderr",
     "output_type": "stream",
     "text": [
      "[INFO] Message Id: 199dfba3fb6ea6a3 sent.\n"
     ]
    },
    {
     "name": "stdout",
     "output_type": "stream",
     "text": [
      "Sending email 164/228:\n"
     ]
    },
    {
     "name": "stderr",
     "output_type": "stream",
     "text": [
      "[INFO] Message Id: 199dfba426e4393a sent.\n"
     ]
    },
    {
     "name": "stdout",
     "output_type": "stream",
     "text": [
      "Sending email 165/228:\n"
     ]
    },
    {
     "name": "stderr",
     "output_type": "stream",
     "text": [
      "[INFO] Message Id: 199dfba4656e708d sent.\n"
     ]
    },
    {
     "name": "stdout",
     "output_type": "stream",
     "text": [
      "Sending email 166/228:\n"
     ]
    },
    {
     "name": "stderr",
     "output_type": "stream",
     "text": [
      "[INFO] Message Id: 199dfba4bfbef2d4 sent.\n"
     ]
    },
    {
     "name": "stdout",
     "output_type": "stream",
     "text": [
      "Sending email 167/228:\n"
     ]
    },
    {
     "name": "stderr",
     "output_type": "stream",
     "text": [
      "[INFO] Message Id: 199dfba4f97b8ab2 sent.\n"
     ]
    },
    {
     "name": "stdout",
     "output_type": "stream",
     "text": [
      "Sending email 168/228:\n"
     ]
    },
    {
     "name": "stderr",
     "output_type": "stream",
     "text": [
      "[INFO] Message Id: 199dfba533d372b6 sent.\n"
     ]
    },
    {
     "name": "stdout",
     "output_type": "stream",
     "text": [
      "Sending email 169/228:\n"
     ]
    },
    {
     "name": "stderr",
     "output_type": "stream",
     "text": [
      "[INFO] Message Id: 199dfba56917a5e6 sent.\n"
     ]
    },
    {
     "name": "stdout",
     "output_type": "stream",
     "text": [
      "Sending email 170/228:\n"
     ]
    },
    {
     "name": "stderr",
     "output_type": "stream",
     "text": [
      "[INFO] Message Id: 199dfba5a51d847a sent.\n"
     ]
    },
    {
     "name": "stdout",
     "output_type": "stream",
     "text": [
      "Sending email 171/228:\n"
     ]
    },
    {
     "name": "stderr",
     "output_type": "stream",
     "text": [
      "[INFO] Message Id: 199dfba5fbfb14b0 sent.\n"
     ]
    },
    {
     "name": "stdout",
     "output_type": "stream",
     "text": [
      "Sending email 172/228:\n"
     ]
    },
    {
     "name": "stderr",
     "output_type": "stream",
     "text": [
      "[INFO] Message Id: 199dfba63a892856 sent.\n"
     ]
    },
    {
     "name": "stdout",
     "output_type": "stream",
     "text": [
      "Sending email 173/228:\n"
     ]
    },
    {
     "name": "stderr",
     "output_type": "stream",
     "text": [
      "[INFO] Message Id: 199dfba66fec139b sent.\n"
     ]
    },
    {
     "name": "stdout",
     "output_type": "stream",
     "text": [
      "Sending email 174/228:\n"
     ]
    },
    {
     "name": "stderr",
     "output_type": "stream",
     "text": [
      "[INFO] Message Id: 199dfba6b7c91966 sent.\n"
     ]
    },
    {
     "name": "stdout",
     "output_type": "stream",
     "text": [
      "Sending email 175/228:\n"
     ]
    },
    {
     "name": "stderr",
     "output_type": "stream",
     "text": [
      "[INFO] Message Id: 199dfba6e435b441 sent.\n"
     ]
    },
    {
     "name": "stdout",
     "output_type": "stream",
     "text": [
      "Sending email 176/228:\n"
     ]
    },
    {
     "name": "stderr",
     "output_type": "stream",
     "text": [
      "[INFO] Message Id: 199dfba73f81046c sent.\n"
     ]
    },
    {
     "name": "stdout",
     "output_type": "stream",
     "text": [
      "Sending email 177/228:\n"
     ]
    },
    {
     "name": "stderr",
     "output_type": "stream",
     "text": [
      "[INFO] Message Id: 199dfba743cc7124 sent.\n"
     ]
    },
    {
     "name": "stdout",
     "output_type": "stream",
     "text": [
      "Sending email 178/228:\n"
     ]
    },
    {
     "name": "stderr",
     "output_type": "stream",
     "text": [
      "[INFO] Message Id: 199dfba7d6f823f0 sent.\n"
     ]
    },
    {
     "name": "stdout",
     "output_type": "stream",
     "text": [
      "Sending email 179/228:\n"
     ]
    },
    {
     "name": "stderr",
     "output_type": "stream",
     "text": [
      "[INFO] Message Id: 199dfba8057272ec sent.\n"
     ]
    },
    {
     "name": "stdout",
     "output_type": "stream",
     "text": [
      "Sending email 180/228:\n"
     ]
    },
    {
     "name": "stderr",
     "output_type": "stream",
     "text": [
      "[INFO] Message Id: 199dfba85299e091 sent.\n"
     ]
    },
    {
     "name": "stdout",
     "output_type": "stream",
     "text": [
      "Sending email 181/228:\n"
     ]
    },
    {
     "name": "stderr",
     "output_type": "stream",
     "text": [
      "[INFO] Message Id: 199dfba8901d83fb sent.\n"
     ]
    },
    {
     "name": "stdout",
     "output_type": "stream",
     "text": [
      "Sending email 182/228:\n"
     ]
    },
    {
     "name": "stderr",
     "output_type": "stream",
     "text": [
      "[INFO] Message Id: 199dfba8c0d1cbe8 sent.\n"
     ]
    },
    {
     "name": "stdout",
     "output_type": "stream",
     "text": [
      "Sending email 183/228:\n"
     ]
    },
    {
     "name": "stderr",
     "output_type": "stream",
     "text": [
      "[INFO] Message Id: 199dfba917d02a8b sent.\n"
     ]
    },
    {
     "name": "stdout",
     "output_type": "stream",
     "text": [
      "Sending email 184/228:\n"
     ]
    },
    {
     "name": "stderr",
     "output_type": "stream",
     "text": [
      "[INFO] Message Id: 199dfba93e6706f3 sent.\n"
     ]
    },
    {
     "name": "stdout",
     "output_type": "stream",
     "text": [
      "Sending email 185/228:\n"
     ]
    },
    {
     "name": "stderr",
     "output_type": "stream",
     "text": [
      "[INFO] Message Id: 199dfba992854ccb sent.\n"
     ]
    },
    {
     "name": "stdout",
     "output_type": "stream",
     "text": [
      "Sending email 186/228:\n"
     ]
    },
    {
     "name": "stderr",
     "output_type": "stream",
     "text": [
      "[INFO] Message Id: 199dfba9f3f3b0a6 sent.\n"
     ]
    },
    {
     "name": "stdout",
     "output_type": "stream",
     "text": [
      "Sending email 187/228:\n"
     ]
    },
    {
     "name": "stderr",
     "output_type": "stream",
     "text": [
      "[INFO] Message Id: 199dfbaa3cc8f6d0 sent.\n"
     ]
    },
    {
     "name": "stdout",
     "output_type": "stream",
     "text": [
      "Sending email 188/228:\n"
     ]
    },
    {
     "name": "stderr",
     "output_type": "stream",
     "text": [
      "[INFO] Message Id: 199dfbaa70036e99 sent.\n"
     ]
    },
    {
     "name": "stdout",
     "output_type": "stream",
     "text": [
      "Sending email 189/228:\n"
     ]
    },
    {
     "name": "stderr",
     "output_type": "stream",
     "text": [
      "[INFO] Message Id: 199dfbaaa445245a sent.\n"
     ]
    },
    {
     "name": "stdout",
     "output_type": "stream",
     "text": [
      "Sending email 190/228:\n"
     ]
    },
    {
     "name": "stderr",
     "output_type": "stream",
     "text": [
      "[INFO] Message Id: 199dfbaad1467441 sent.\n"
     ]
    },
    {
     "name": "stdout",
     "output_type": "stream",
     "text": [
      "Sending email 191/228:\n"
     ]
    },
    {
     "name": "stderr",
     "output_type": "stream",
     "text": [
      "[INFO] Message Id: 199dfbab1e850e66 sent.\n"
     ]
    },
    {
     "name": "stdout",
     "output_type": "stream",
     "text": [
      "Sending email 192/228:\n"
     ]
    },
    {
     "name": "stderr",
     "output_type": "stream",
     "text": [
      "[INFO] Message Id: 199dfbab41d47e8b sent.\n"
     ]
    },
    {
     "name": "stdout",
     "output_type": "stream",
     "text": [
      "Sending email 193/228:\n"
     ]
    },
    {
     "name": "stderr",
     "output_type": "stream",
     "text": [
      "[INFO] Message Id: 199dfbab9b038b2a sent.\n"
     ]
    },
    {
     "name": "stdout",
     "output_type": "stream",
     "text": [
      "Sending email 194/228:\n"
     ]
    },
    {
     "name": "stderr",
     "output_type": "stream",
     "text": [
      "[INFO] Message Id: 199dfbabcd6e71be sent.\n"
     ]
    },
    {
     "name": "stdout",
     "output_type": "stream",
     "text": [
      "Sending email 195/228:\n"
     ]
    },
    {
     "name": "stderr",
     "output_type": "stream",
     "text": [
      "[INFO] Message Id: 199dfbac120eb5de sent.\n"
     ]
    },
    {
     "name": "stdout",
     "output_type": "stream",
     "text": [
      "Sending email 196/228:\n"
     ]
    },
    {
     "name": "stderr",
     "output_type": "stream",
     "text": [
      "[INFO] Message Id: 199dfbac49f2b262 sent.\n"
     ]
    },
    {
     "name": "stdout",
     "output_type": "stream",
     "text": [
      "Sending email 197/228:\n"
     ]
    },
    {
     "name": "stderr",
     "output_type": "stream",
     "text": [
      "[INFO] Message Id: 199dfbac8b78b1a1 sent.\n"
     ]
    },
    {
     "name": "stdout",
     "output_type": "stream",
     "text": [
      "Sending email 198/228:\n"
     ]
    },
    {
     "name": "stderr",
     "output_type": "stream",
     "text": [
      "[INFO] Message Id: 199dfbaceb1dc932 sent.\n"
     ]
    },
    {
     "name": "stdout",
     "output_type": "stream",
     "text": [
      "Sending email 199/228:\n"
     ]
    },
    {
     "name": "stderr",
     "output_type": "stream",
     "text": [
      "[INFO] Message Id: 199dfbad17058163 sent.\n"
     ]
    },
    {
     "name": "stdout",
     "output_type": "stream",
     "text": [
      "Sending email 200/228:\n"
     ]
    },
    {
     "name": "stderr",
     "output_type": "stream",
     "text": [
      "[INFO] Message Id: 199dfbad520b9c88 sent.\n"
     ]
    },
    {
     "name": "stdout",
     "output_type": "stream",
     "text": [
      "Sending email 201/228:\n"
     ]
    },
    {
     "name": "stderr",
     "output_type": "stream",
     "text": [
      "[INFO] Message Id: 199dfbad91b02edd sent.\n"
     ]
    },
    {
     "name": "stdout",
     "output_type": "stream",
     "text": [
      "Sending email 202/228:\n"
     ]
    },
    {
     "name": "stderr",
     "output_type": "stream",
     "text": [
      "[INFO] Message Id: 199dfbadce8f8cfa sent.\n"
     ]
    },
    {
     "name": "stdout",
     "output_type": "stream",
     "text": [
      "Sending email 203/228:\n"
     ]
    },
    {
     "name": "stderr",
     "output_type": "stream",
     "text": [
      "[INFO] Message Id: 199dfbae06b68fa9 sent.\n"
     ]
    },
    {
     "name": "stdout",
     "output_type": "stream",
     "text": [
      "Sending email 204/228:\n"
     ]
    },
    {
     "name": "stderr",
     "output_type": "stream",
     "text": [
      "[INFO] Message Id: 199dfbae4236e0af sent.\n"
     ]
    },
    {
     "name": "stdout",
     "output_type": "stream",
     "text": [
      "Sending email 205/228:\n"
     ]
    },
    {
     "name": "stderr",
     "output_type": "stream",
     "text": [
      "[INFO] Message Id: 199dfbae7fd05503 sent.\n"
     ]
    },
    {
     "name": "stdout",
     "output_type": "stream",
     "text": [
      "Sending email 206/228:\n"
     ]
    },
    {
     "name": "stderr",
     "output_type": "stream",
     "text": [
      "[INFO] Message Id: 199dfbaeabfa33cf sent.\n"
     ]
    },
    {
     "name": "stdout",
     "output_type": "stream",
     "text": [
      "Sending email 207/228:\n"
     ]
    },
    {
     "name": "stderr",
     "output_type": "stream",
     "text": [
      "[INFO] Message Id: 199dfbaefa890c53 sent.\n"
     ]
    },
    {
     "name": "stdout",
     "output_type": "stream",
     "text": [
      "Sending email 208/228:\n"
     ]
    },
    {
     "name": "stderr",
     "output_type": "stream",
     "text": [
      "[INFO] Message Id: 199dfbaf591acdbf sent.\n"
     ]
    },
    {
     "name": "stdout",
     "output_type": "stream",
     "text": [
      "Sending email 209/228:\n"
     ]
    },
    {
     "name": "stderr",
     "output_type": "stream",
     "text": [
      "[INFO] Message Id: 199dfbaf9ccb8245 sent.\n"
     ]
    },
    {
     "name": "stdout",
     "output_type": "stream",
     "text": [
      "Sending email 210/228:\n"
     ]
    },
    {
     "name": "stderr",
     "output_type": "stream",
     "text": [
      "[INFO] Message Id: 199dfbafb5f150de sent.\n"
     ]
    },
    {
     "name": "stdout",
     "output_type": "stream",
     "text": [
      "Sending email 211/228:\n"
     ]
    },
    {
     "name": "stderr",
     "output_type": "stream",
     "text": [
      "[INFO] Message Id: 199dfbb011acc014 sent.\n"
     ]
    },
    {
     "name": "stdout",
     "output_type": "stream",
     "text": [
      "Sending email 212/228:\n"
     ]
    },
    {
     "name": "stderr",
     "output_type": "stream",
     "text": [
      "[INFO] Message Id: 199dfbb0575abeb9 sent.\n"
     ]
    },
    {
     "name": "stdout",
     "output_type": "stream",
     "text": [
      "Sending email 213/228:\n"
     ]
    },
    {
     "name": "stderr",
     "output_type": "stream",
     "text": [
      "[INFO] Message Id: 199dfbb090b33fc7 sent.\n"
     ]
    },
    {
     "name": "stdout",
     "output_type": "stream",
     "text": [
      "Sending email 214/228:\n"
     ]
    },
    {
     "name": "stderr",
     "output_type": "stream",
     "text": [
      "[INFO] Message Id: 199dfbb0a0824c92 sent.\n"
     ]
    },
    {
     "name": "stdout",
     "output_type": "stream",
     "text": [
      "Sending email 215/228:\n"
     ]
    },
    {
     "name": "stderr",
     "output_type": "stream",
     "text": [
      "[INFO] Message Id: 199dfbb0f41a20cc sent.\n"
     ]
    },
    {
     "name": "stdout",
     "output_type": "stream",
     "text": [
      "Sending email 216/228:\n"
     ]
    },
    {
     "name": "stderr",
     "output_type": "stream",
     "text": [
      "[INFO] Message Id: 199dfbb13650bb3f sent.\n"
     ]
    },
    {
     "name": "stdout",
     "output_type": "stream",
     "text": [
      "Sending email 217/228:\n"
     ]
    },
    {
     "name": "stderr",
     "output_type": "stream",
     "text": [
      "[INFO] Message Id: 199dfbb197ad4e6c sent.\n"
     ]
    },
    {
     "name": "stdout",
     "output_type": "stream",
     "text": [
      "Sending email 218/228:\n"
     ]
    },
    {
     "name": "stderr",
     "output_type": "stream",
     "text": [
      "[INFO] Message Id: 199dfbb1bc03f579 sent.\n"
     ]
    },
    {
     "name": "stdout",
     "output_type": "stream",
     "text": [
      "Sending email 219/228:\n"
     ]
    },
    {
     "name": "stderr",
     "output_type": "stream",
     "text": [
      "[INFO] Message Id: 199dfbb1ffef9963 sent.\n"
     ]
    },
    {
     "name": "stdout",
     "output_type": "stream",
     "text": [
      "Sending email 220/228:\n"
     ]
    },
    {
     "name": "stderr",
     "output_type": "stream",
     "text": [
      "[INFO] Message Id: 199dfbb211700626 sent.\n"
     ]
    },
    {
     "name": "stdout",
     "output_type": "stream",
     "text": [
      "Sending email 221/228:\n"
     ]
    },
    {
     "name": "stderr",
     "output_type": "stream",
     "text": [
      "[INFO] Message Id: 199dfbb277a6de2a sent.\n"
     ]
    },
    {
     "name": "stdout",
     "output_type": "stream",
     "text": [
      "Sending email 222/228:\n"
     ]
    },
    {
     "name": "stderr",
     "output_type": "stream",
     "text": [
      "[INFO] Message Id: 199dfbb44c784562 sent.\n"
     ]
    },
    {
     "name": "stdout",
     "output_type": "stream",
     "text": [
      "Sending email 223/228:\n"
     ]
    },
    {
     "name": "stderr",
     "output_type": "stream",
     "text": [
      "[INFO] Message Id: 199dfbb49def65e7 sent.\n"
     ]
    },
    {
     "name": "stdout",
     "output_type": "stream",
     "text": [
      "Sending email 224/228:\n"
     ]
    },
    {
     "name": "stderr",
     "output_type": "stream",
     "text": [
      "[INFO] Message Id: 199dfbb4df4052ce sent.\n"
     ]
    },
    {
     "name": "stdout",
     "output_type": "stream",
     "text": [
      "Sending email 225/228:\n"
     ]
    },
    {
     "name": "stderr",
     "output_type": "stream",
     "text": [
      "[INFO] Message Id: 199dfbb5178bdc3b sent.\n"
     ]
    },
    {
     "name": "stdout",
     "output_type": "stream",
     "text": [
      "Sending email 226/228:\n"
     ]
    },
    {
     "name": "stderr",
     "output_type": "stream",
     "text": [
      "[INFO] Message Id: 199dfbb533bc6cf4 sent.\n"
     ]
    },
    {
     "name": "stdout",
     "output_type": "stream",
     "text": [
      "Sending email 227/228:\n"
     ]
    },
    {
     "name": "stderr",
     "output_type": "stream",
     "text": [
      "[INFO] Message Id: 199dfbb5956d337f sent.\n"
     ]
    },
    {
     "name": "stdout",
     "output_type": "stream",
     "text": [
      "Sending email 228/228:\n"
     ]
    },
    {
     "name": "stderr",
     "output_type": "stream",
     "text": [
      "[INFO] Message Id: 199dfbb5d0b2d00d sent.\n"
     ]
    }
   ],
   "source": [
    "for i, email in enumerate(emails[:]):\n",
    "    print(f'Sending email {i+1}/{len(emails)}:')\n",
    "    sent_msg = mailer.send_message(email)\n",
    "    sent.append((email, sent_msg))"
   ]
  },
  {
   "cell_type": "code",
   "execution_count": null,
   "metadata": {},
   "outputs": [],
   "source": []
  },
  {
   "cell_type": "code",
   "execution_count": null,
   "metadata": {},
   "outputs": [],
   "source": []
  },
  {
   "cell_type": "code",
   "execution_count": null,
   "metadata": {},
   "outputs": [],
   "source": []
  }
 ],
 "metadata": {
  "kernelspec": {
   "display_name": "prispevky (3.13.8)",
   "language": "python",
   "name": "python3"
  },
  "language_info": {
   "codemirror_mode": {
    "name": "ipython",
    "version": 3
   },
   "file_extension": ".py",
   "mimetype": "text/x-python",
   "name": "python",
   "nbconvert_exporter": "python",
   "pygments_lexer": "ipython3",
   "version": "3.13.8"
  }
 },
 "nbformat": 4,
 "nbformat_minor": 1
}
