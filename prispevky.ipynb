{
 "cells": [
  {
   "cell_type": "code",
   "execution_count": 1,
   "metadata": {},
   "outputs": [],
   "source": [
    "%load_ext autoreload\n",
    "%autoreload 2"
   ]
  },
  {
   "cell_type": "code",
   "execution_count": 2,
   "metadata": {},
   "outputs": [
    {
     "name": "stdout",
     "output_type": "stream",
     "text": [
      "Succesfully read config from: ['./config.cfg']\n"
     ]
    }
   ],
   "source": [
    "import warnings\n",
    "\n",
    "from gsheet import *\n",
    "from mailer import *\n",
    "from payment_info import *\n",
    "from qr_code import *\n",
    "from dataclasses import dataclass\n",
    "from payment_data import *\n",
    "import pandas as pd\n",
    "import dataclasses\n",
    "import logging"
   ]
  },
  {
   "cell_type": "code",
   "execution_count": 3,
   "metadata": {},
   "outputs": [],
   "source": [
    "logging.basicConfig(\n",
    "    format=\"[%(levelname)s] %(message)s\",\n",
    "    level=logging.INFO\n",
    ")"
   ]
  },
  {
   "cell_type": "code",
   "execution_count": 4,
   "metadata": {},
   "outputs": [
    {
     "name": "stderr",
     "output_type": "stream",
     "text": [
      "[INFO] file_cache is only supported with oauth2client<4.0.0\n"
     ]
    }
   ],
   "source": [
    "sheet = Sheets(SPREADSHEET_ID)"
   ]
  },
  {
   "cell_type": "code",
   "execution_count": 6,
   "metadata": {},
   "outputs": [],
   "source": [
    "# sheet_names = sheet.get_sheet_names()\n",
    "sheet_name = '4pvs_all'\n",
    "if sheet_name=='TEST':\n",
    "    testmode=True\n",
    "else:\n",
    "    testmode=False\n",
    "df = sheet.get_dataframe(sheet_name)"
   ]
  },
  {
   "cell_type": "code",
   "execution_count": 7,
   "metadata": {
    "scrolled": true
   },
   "outputs": [
    {
     "name": "stderr",
     "output_type": "stream",
     "text": [
      "[INFO] Of 233 people, missing email: 8,\n",
      "\temailable paid: 189\n",
      "\temailable unpaid: 36.\n",
      " Also there were 0 invalid emails.\n"
     ]
    }
   ],
   "source": [
    "pdf=PaymentsDataFrame(df, NEEDED_COLS)"
   ]
  },
  {
   "cell_type": "code",
   "execution_count": 8,
   "metadata": {},
   "outputs": [],
   "source": [
    "SENDER=\"4pvs@skaut.cz\"\n",
    "SENDER_NAME=\"4. přístav Jana Nerudy\""
   ]
  },
  {
   "cell_type": "code",
   "execution_count": 13,
   "metadata": {},
   "outputs": [],
   "source": [
    "emails = []\n",
    "for i, row in pdf.df_emailable_unpaid.iterrows():\n",
    "    recepient_addresses = row.valid_emails\n",
    "    pi = PaymentInfo.from_df_row(row)\n",
    "    emails.append(PaymentEmail(pi, SENDER, SENDER_NAME, recepient_addresses, testmode=testmode).create_email())"
   ]
  },
  {
   "cell_type": "code",
   "execution_count": 14,
   "metadata": {
    "scrolled": true
   },
   "outputs": [
    {
     "name": "stdout",
     "output_type": "stream",
     "text": [
      "From: \"4. pristav Jana Nerudy\" <4pvs@skaut.cz>\n",
      "To: \"Matka: mail\" <jitacihi@gmail.com>\n",
      "Subject: =?utf-8?q?4=2e=20p=c5=99=c3=adstav=20Jana=20Nerudy=20-=20p=c5=99=c3=adsp=c4=9bvky=20podzim=202021=20=282=2e=20v=c3=bdzva=20k=20platb=c4=9b=29?=\n",
      "Cc: \"Nemo\" <buzek.michal@centrum.cz>\n",
      "Date: Sat, 20 Nov 2021 15:39:21 +0000\n",
      "Message-Id: <emdb07f6a8-3b97-48c2-b6d7-bf28d321ffcb@escarabajo>\n",
      "Reply-To: \"4. pristav Jana Nerudy\" <4pvs@skaut.cz>\n",
      "User-Agent: PaymentMailer/0.1\n",
      "Mime-Version: 1.0\n",
      "Content-Type: multipart/related; boundary=\"------=_MBC05D33A5-1273-4469-9734-7D78117472D2\"\n",
      "\n",
      "--------=_MBC05D33A5-1273-4469-9734-7D78117472D2\n",
      "Content-Type: multipart/alternative;\n",
      " boundary=\"------=_MB462F58BD-D8F2-4297-91B9-95D09C74EA90\"\n",
      "\n",
      "--------=_MB462F58BD-D8F2-4297-91B9-95D09C74EA90\n",
      "Content-Type: text/plain; charset=utf-8; format=flowed\n",
      "Content-Transfer-Encoding: quoted-printable\n",
      "\n",
      "Dobr=C3=BD den / Ahoj,\n",
      "od tohoto =C5=A1koln=C3=ADho roku se sna=C5=BE=C3=ADme vyb=C3=ADrat p=C5=99=\n",
      "=C3=ADsp=C4=9Bvky centralizovan=C4=9B,=20\n",
      "informace o platb=C3=A1ch tak nebudou pos=C3=ADlat odd=C3=ADl=C3=A1ci, ale=\n",
      " p=C5=99=C3=ADmo p=C5=99=C3=ADstav.=20\n",
      "Toto je druh=C3=A1 v=C3=BDzva k platb=C4=9B p=C5=99=C3=ADsp=C4=9Bvk=C5=AF.=\n",
      " Na rozd=C3=ADl od prvn=C3=AD v=C3=BDzvy, tato=20\n",
      "v=C3=BDzvu zas=C3=ADl=C3=A1me i na dal=C5=A1=C3=AD emaily ne=C5=BE prim=C3=\n",
      "=A1rn=C3=AD email ve skautisu,=20\n",
      "skautsk=C3=A9mu syst=C3=A9mu pro spr=C3=A1vu =C4=8Dlen=C5=AF.\n",
      "\n",
      "Kdo plat=C3=AD p=C5=99=C3=ADsp=C4=9Bvky\n",
      "=C4=8Clensk=C3=A9 p=C5=99=C3=ADsp=C4=9Bvky plat=C3=AD ka=C5=BEd=C3=BD evido=\n",
      "van=C3=BD =C4=8Dlen odd=C3=ADlu nebo p=C5=99=C3=ADstavu, na=20\n",
      "z=C3=A1klad=C4=9B t=C3=A9to evidence V=C3=A1m pos=C3=ADl=C3=A1me tento mail=\n",
      ". V p=C5=99=C3=ADpad=C4=9B, =C5=BEe V=C3=A1=C5=A1=20\n",
      "syn/dcera chce b=C3=BDt =C4=8Dlenem odd=C3=ADlu, pros=C3=ADme o proveden=C3=\n",
      "=AD platby =C4=8Dlensk=C3=A9ho=20\n",
      "p=C5=99=C3=ADsp=C4=9Bvku na z=C3=A1klad=C4=9B informac=C3=AD n=C3=AD=C5=BEe=\n",
      ". Z=C3=A1rove=C5=88 samoz=C5=99ejm=C4=9B popros=C3=ADme o=20\n",
      "zpr=C3=A1vu v p=C5=99=C3=ADpad=C4=9B, =C5=BEe syn/dcera ji=C5=BE nad=C3=A1l=\n",
      "e chodit nebude.\n",
      "\n",
      "V=C3=BD=C5=A1e registrace\n",
      "=C4=8Clensk=C3=BD p=C5=99=C3=ADsp=C4=9Bvek na prvn=C3=AD pololet=C3=AD =C5=\n",
      "=A1koln=C3=ADho roku 2021/22 je stejn=C3=BD jako=20\n",
      "v minulosti, tedy 700 K=C4=8D.\n",
      "\n",
      "Z vybran=C3=BDch =C4=8Dlensk=C3=BDch p=C5=99=C3=ADsp=C4=9Bvk=C5=AF jde =C4=\n",
      "=8D=C3=A1st celost=C3=A1tn=C3=AD organizaci Jun=C3=A1k,=20\n",
      "kter=C3=A1 plat=C3=AD poji=C5=A1t=C4=9Bn=C3=AD d=C4=9Bt=C3=AD, vyd=C3=A1v=\n",
      "=C3=A1n=C3=AD a zas=C3=ADl=C3=A1n=C3=AD =C4=8Dasopis=C5=AF a dal=C5=A1=C3=\n",
      "=AD podporu=20\n",
      "odd=C3=ADl=C5=AF. Krom toho jsou p=C5=99=C3=ADsp=C4=9Bvky =C4=8D=C3=A1ste=\n",
      "=C4=8Dn=C4=9B hrazeny provozn=C3=AD n=C3=A1klady=20\n",
      "odd=C3=ADl=C5=AF (materi=C3=A1l a vybaven=C3=AD, p=C5=99=C3=ADsp=C4=9Bvky n=\n",
      "a vzd=C4=9Bl=C3=A1v=C3=A1n=C3=AD a p=C5=99ipoji=C5=A1t=C4=9Bn=C3=AD=20\n",
      "vedouc=C3=ADch, odd=C3=ADlov=C3=A9 akce), n=C3=A1klady p=C5=99=C3=ADstavu (=\n",
      "p=C5=99=C3=ADstavn=C3=AD akce, provoz=20\n",
      "kluboven - elekt=C5=99ina, plyn, voda, n=C3=A1jem a dal=C5=A1=C3=AD slu=C5=\n",
      "=BEby) a d=C3=A1le je z nich=20\n",
      "tvo=C5=99ena finan=C4=8Dn=C3=AD rezerva. Na=C5=A1e st=C5=99edisko se tak=C3=\n",
      "=A9 pro zaji=C5=A1t=C4=9Bn=C3=AD sv=C3=A9=20\n",
      "=C4=8Dinnosti sna=C5=BE=C3=AD ka=C5=BEdoro=C4=8Dn=C4=9B z=C3=ADsk=C3=A1vat=\n",
      " finan=C4=8Dn=C3=AD podporu i z dotac=C3=AD a grant=C5=AF=20\n",
      "od M=C4=8C Praha 3, M=C5=A0MT a MHMP. Za jejich podporu jim d=C4=9Bkujeme.\n",
      "Skauti pracuj=C3=AD jako sdru=C5=BEen=C3=AD dobrovoln=C3=ADk=C5=AF - lid=C3=\n",
      "=A9, kte=C5=99=C3=AD se pod=C3=ADl=C3=AD na=20\n",
      "veden=C3=AD odd=C3=ADlu =C4=8Di p=C5=99=C3=ADstavu si za svoji =C4=8Dinnost =\n",
      "nen=C3=A1rokuj=C3=AD =C5=BE=C3=A1dnou finan=C4=8Dn=C3=AD=20\n",
      "odm=C4=9Bnu.\n",
      "\n",
      "V p=C5=99=C3=ADpad=C4=9B sourozenc=C5=AF pros=C3=ADme prove=C4=8Fte platby=\n",
      " jednotliv=C4=9B, zjednodu=C5=A1=C3=AD n=C3=A1m=20\n",
      "to pr=C3=A1ci.\n",
      "\n",
      "Informace k platb=C4=9B:\n",
      "=C3=9A=C4=8Del platby/Pozn=C3=A1mka: Prispevky Podzim 2021 - ALB Cihak David (Aram)\n",
      "=C4=8C=C3=ADslo =C3=BA=C4=8Dtu: 000000-2400529789/2010\n",
      "=C4=8C=C3=A1stka: 700 K=C4=8D\n",
      "Datum splatnosti: 01. 12. 2021\n",
      "VS: 10130\n",
      "SS: 211201\n",
      "\n",
      "Pro zrychlen=C3=AD platby jsme p=C5=99ipravili QR k=C3=B3d, kter=C3=BD lze=\n",
      " pou=C5=BE=C3=ADt p=C5=99i=20\n",
      "placen=C3=AD v mobiln=C3=ADch aplikac=C3=ADch bank. Pou=C5=BEit=C3=AD QR k=\n",
      "=C3=B3du =C5=A1et=C5=99=C3=AD v=C3=A1=C5=A1 =C4=8Das a=20\n",
      "sni=C5=BEuje pravd=C4=9Bpodobnost p=C5=99eklepu.\n",
      "\n",
      "Toto je dal=C5=A1=C3=AD pokus s nov=C3=BDm syst=C3=A9mem=20\n",
      "<https://github.com/BoZenKhaa/platby> placen=C3=AD p=C5=99=C3=ADsp=C4=9Bvk=\n",
      "=C5=AF, nev=C3=A1hejte se=20\n",
      "ozvat v p=C5=99=C3=ADpad=C4=9B =C5=BEe budete m=C3=ADt probl=C3=A9m =C4=8Di =\n",
      "p=C5=99ipom=C3=ADnku, nap=C5=99=C3=ADklad pokud=20\n",
      "jste ji=C5=BE platili a st=C3=A1le v=C3=A1m p=C3=AD=C5=A1u. V p=C5=99=C3=AD=\n",
      "pad=C4=9B jak=C3=BDchkoliv dal=C5=A1=C3=ADch=20\n",
      "p=C5=99ipom=C3=ADnek =C4=8Di dotaz=C5=AF nejen ohledn=C4=9B plateb jsem V=\n",
      "=C3=A1m samoz=C5=99ejm=C4=9B tak=C3=A9 k=20\n",
      "dispozici. Z=C3=A1rove=C5=88 m=C5=AF=C5=BEete kontaktovat jednotliv=C3=A9 v=\n",
      "edouc=C3=AD odd=C3=ADl=C5=AF.\n",
      "\n",
      "S pod=C4=9Bkov=C3=A1n=C3=ADm a p=C5=99=C3=A1n=C3=ADm p=C4=9Bkn=C3=A9ho podz=\n",
      "imu,\n",
      "Hondzik - Jan Mrkos, vedouc=C3=AD 4. p=C5=99=C3=ADstavu\n",
      "--------=_MB462F58BD-D8F2-4297-91B9-95D09C74EA90\n",
      "Content-Type: text/html; charset=utf-8\n",
      "Content-Transfer-Encoding: quoted-printable\n",
      "\n",
      "<html><head>\n",
      "\n",
      "<style id=3D\"css_styles\" type=3D\"text/css\"><!--blockquote.cite { margin-lef=\n",
      "t: 5px; margin-right: 0px; padding-left: 10px; padding-right:0px; border-le=\n",
      "ft: 1px solid #cccccc }\n",
      "blockquote.cite2 {margin-left: 5px; margin-right: 0px; padding-left: 10px;=\n",
      " padding-right:0px; border-left: 1px solid #cccccc; margin-top: 3px; padding=\n",
      "-top: 0px; }\n",
      "a img { border: 0px; }\n",
      "li[style=3D'text-align: center;'], li[style=3D'text-align: center; '], li[s=\n",
      "tyle=3D'text-align: right;'], li[style=3D'text-align: right; '] {  list-sty=\n",
      "le-position: inside;}\n",
      "body { font-family: Segoe UI; font-size: 12pt;   }=20\n",
      ".quote { margin-left: 1em; margin-right: 1em; border-left: 5px #ebebeb soli=\n",
      "d; padding-left: 0.3em; }--></style></head><body class=3D\"plain\">Dobr=C3=BD =\n",
      "den / Ahoj,\n",
      "<div>od tohoto =C5=A1koln=C3=ADho roku se sna=C5=BE=C3=ADme vyb=C3=ADrat p=\n",
      "=C5=99=C3=ADsp=C4=9Bvky centralizovan=C4=9B, informace o platb=C3=A1ch tak=\n",
      " nebudou pos=C3=ADlat odd=C3=ADl=C3=A1ci, ale p=C5=99=C3=ADmo p=C5=99=C3=ADs=\n",
      "tav. Toto je druh=C3=A1 v=C3=BDzva k platb=C4=9B p=C5=99=C3=ADsp=C4=9Bvk=C5=\n",
      "=AF. Na rozd=C3=ADl od prvn=C3=AD v=C3=BDzvy, tato v=C3=BDzvu zas=C3=ADl=C3=\n",
      "=A1me i na dal=C5=A1=C3=AD emaily ne=C5=BE prim=C3=A1rn=C3=AD email ve skau=\n",
      "tisu, skautsk=C3=A9mu syst=C3=A9mu pro spr=C3=A1vu =C4=8Dlen=C5=AF.</div><d=\n",
      "iv><br /></div><div><b>Kdo plat=C3=AD p=C5=99=C3=ADsp=C4=9Bvky\n",
      "</b></div><div>=C4=8Clensk=C3=A9 p=C5=99=C3=ADsp=C4=9Bvky plat=C3=AD ka=C5=\n",
      "=BEd=C3=BD evidovan=C3=BD =C4=8Dlen odd=C3=ADlu nebo p=C5=99=C3=ADstavu, na =\n",
      "z=C3=A1klad=C4=9B t=C3=A9to evidence V=C3=A1m pos=C3=ADl=C3=A1me tento mai=\n",
      "l. V p=C5=99=C3=ADpad=C4=9B, =C5=BEe V=C3=A1=C5=A1 syn/dcera chce b=C3=BDt =\n",
      "=C4=8Dlenem odd=C3=ADlu, pros=C3=ADme o proveden=C3=AD platby =C4=8Dlensk=\n",
      "=C3=A9ho p=C5=99=C3=ADsp=C4=9Bvku na z=C3=A1klad=C4=9B informac=C3=AD n=C3=\n",
      "=AD=C5=BEe. Z=C3=A1rove=C5=88 samoz=C5=99ejm=C4=9B popros=C3=ADme o zpr=C3=\n",
      "=A1vu v p=C5=99=C3=ADpad=C4=9B, =C5=BEe syn/dcera ji=C5=BE nad=C3=A1le chod=\n",
      "it nebude.\n",
      "</div><div><br /></div><div><b>V=C3=BD=C5=A1e registrace\n",
      "</b></div><div>=C4=8Clensk=C3=BD p=C5=99=C3=ADsp=C4=9Bvek na prvn=C3=AD pol=\n",
      "olet=C3=AD =C5=A1koln=C3=ADho roku 2021/22 je stejn=C3=BD jako v minulosti, =\n",
      "tedy 700 K=C4=8D.=C2=A0\n",
      "</div><div><br /></div><div>Z vybran=C3=BDch =C4=8Dlensk=C3=BDch p=C5=99=C3=\n",
      "=ADsp=C4=9Bvk=C5=AF jde =C4=8D=C3=A1st celost=C3=A1tn=C3=AD organizaci Jun=\n",
      "=C3=A1k, kter=C3=A1 plat=C3=AD poji=C5=A1t=C4=9Bn=C3=AD d=C4=9Bt=C3=AD, vyd=\n",
      "=C3=A1v=C3=A1n=C3=AD a zas=C3=ADl=C3=A1n=C3=AD =C4=8Dasopis=C5=AF a dal=C5=\n",
      "=A1=C3=AD podporu odd=C3=ADl=C5=AF. Krom toho jsou p=C5=99=C3=ADsp=C4=9Bvky =\n",
      "=C4=8D=C3=A1ste=C4=8Dn=C4=9B hrazeny provozn=C3=AD n=C3=A1klady odd=C3=ADl=\n",
      "=C5=AF (materi=C3=A1l a vybaven=C3=AD, p=C5=99=C3=ADsp=C4=9Bvky=C2=A0na vzd=\n",
      "=C4=9Bl=C3=A1v=C3=A1n=C3=AD a p=C5=99ipoji=C5=A1t=C4=9Bn=C3=AD vedouc=C3=AD=\n",
      "ch, odd=C3=ADlov=C3=A9 akce), n=C3=A1klady p=C5=99=C3=ADstavu (p=C5=99=C3=\n",
      "=ADstavn=C3=AD akce, provoz kluboven - elekt=C5=99ina, plyn, voda, n=C3=A1j=\n",
      "em a dal=C5=A1=C3=AD slu=C5=BEby) a d=C3=A1le je z nich tvo=C5=99ena finan=\n",
      "=C4=8Dn=C3=AD rezerva.=C2=A0Na=C5=A1e st=C5=99edisko se tak=C3=A9 pro zaji=\n",
      "=C5=A1t=C4=9Bn=C3=AD sv=C3=A9 =C4=8Dinnosti sna=C5=BE=C3=AD ka=C5=BEdoro=C4=\n",
      "=8Dn=C4=9B z=C3=ADsk=C3=A1vat finan=C4=8Dn=C3=AD podporu i z dotac=C3=AD a=\n",
      " grant=C5=AF od M=C4=8C Praha 3, M=C5=A0MT a MHMP. Za jejich podporu jim d=\n",
      "=C4=9Bkujeme.=C2=A0\n",
      "</div><div>Skauti pracuj=C3=AD jako sdru=C5=BEen=C3=AD dobrovoln=C3=ADk=C5=\n",
      "=AF - lid=C3=A9, kte=C5=99=C3=AD se pod=C3=ADl=C3=AD na veden=C3=AD odd=C3=\n",
      "=ADlu =C4=8Di p=C5=99=C3=ADstavu si za svoji =C4=8Dinnost nen=C3=A1rokuj=C3=\n",
      "=AD =C5=BE=C3=A1dnou finan=C4=8Dn=C3=AD odm=C4=9Bnu.\n",
      "</div><div><br /></div><div>V p=C5=99=C3=ADpad=C4=9B sourozenc=C5=AF pros=\n",
      "=C3=ADme prove=C4=8Fte platby jednotliv=C4=9B, zjednodu=C5=A1=C3=AD n=C3=A1=\n",
      "m to pr=C3=A1ci.\n",
      "</div><div><br /></div><div><b>Informace k platb=C4=9B:=C2=A0\n",
      "</b></div><div>=C3=9A=C4=8Del platby/Pozn=C3=A1mka: Prispevky Podzim 2021 - ALB Cihak David (Aram)\n",
      "</div><div>=C4=8C=C3=ADslo =C3=BA=C4=8Dtu: 000000-2400529789/2010\n",
      "</div><div>=C4=8C=C3=A1stka: 700 K=C4=8D=C2=A0\n",
      "</div><div>Datum splatnosti: 01. 12. 2021\n",
      "</div><div>VS: 10130=C2=A0\n",
      "</div><div>SS: 211201\n",
      "</div><div><img src=3D\"cid:ema5a6f47d-ecd3-44ac-a67f-297efa5d481d@escarabaj=\n",
      "o\" border=3D\"0\" width=3D\"287\" height=3D\"288\" style=3D\"font-size: 12pt; back=\n",
      "ground-color: rgba(0, 0, 0, 0);\" /></div><div><br /></div><div>Pro zrychlen=\n",
      "=C3=AD platby jsme p=C5=99ipravili QR k=C3=B3d, kter=C3=BD lze pou=C5=BE=C3=\n",
      "=ADt p=C5=99i placen=C3=AD v mobiln=C3=ADch aplikac=C3=ADch bank. Pou=C5=BE=\n",
      "it=C3=AD QR k=C3=B3du =C5=A1et=C5=99=C3=AD v=C3=A1=C5=A1 =C4=8Das a sni=C5=\n",
      "=BEuje pravd=C4=9Bpodobnost p=C5=99eklepu.\n",
      "</div><div><br /></div><div>Toto je dal=C5=A1=C3=AD pokus s nov=C3=BDm <a h=\n",
      "ref=3D\"https://github.com/BoZenKhaa/platby\">syst=C3=A9mem</a> placen=C3=AD=\n",
      " p=C5=99=C3=ADsp=C4=9Bvk=C5=AF, nev=C3=A1hejte se ozvat v p=C5=99=C3=ADpad=\n",
      "=C4=9B =C5=BEe budete m=C3=ADt probl=C3=A9m =C4=8Di p=C5=99ipom=C3=ADnku, n=\n",
      "ap=C5=99=C3=ADklad pokud jste ji=C5=BE platili a st=C3=A1le v=C3=A1m p=C3=\n",
      "=AD=C5=A1u. V p=C5=99=C3=ADpad=C4=9B jak=C3=BDchkoliv dal=C5=A1=C3=ADch p=\n",
      "=C5=99ipom=C3=ADnek =C4=8Di dotaz=C5=AF nejen ohledn=C4=9B plateb jsem V=C3=\n",
      "=A1m samoz=C5=99ejm=C4=9B tak=C3=A9 k dispozici. Z=C3=A1rove=C5=88 m=C5=AF=\n",
      "=C5=BEete kontaktovat jednotliv=C3=A9 vedouc=C3=AD odd=C3=ADl=C5=AF.\n",
      "</div><div><br /></div><div>S pod=C4=9Bkov=C3=A1n=C3=ADm a p=C5=99=C3=A1n=\n",
      "=C3=ADm p=C4=9Bkn=C3=A9ho podzimu,\n",
      "</div><div>Hondzik - Jan Mrkos, vedouc=C3=AD 4. p=C5=99=C3=ADstavu</div></b=\n",
      "ody></html>\n",
      "--------=_MB462F58BD-D8F2-4297-91B9-95D09C74EA90--\n",
      "\n",
      "--------=_MBC05D33A5-1273-4469-9734-7D78117472D2\n",
      "Content-Type: image/png; name=qrcode.png\n",
      "Content-Transfer-Encoding: base64\n",
      "Content-Disposition: inline\n",
      "Content-Id: <ema5a6f47d-ecd3-44ac-a67f-297efa5d481d@escarabajo>\n",
      "\n",
      "iVBORw0KGgoAAAANSUhEUgAAAeoAAAHqAQAAAADjFjCXAAAERUlEQVR4nO2dXWrsOBCFzxkL+tGGWUCWYu8gSwp3Z9ZSsoAB67FB5syDfjuXYaDtkNu46iG0W/pQG4pSqX4UCgfE/3WEBgw33HDDDTfccMMNPxdnFgcuwQHATniSQHDInwBwCWXqct7qhl8NhyQJsyRpG6QVADBGlMdBmLdBWcqnRKwv/e6G/zQesvniMsYyNt6ZHv20k5z2PIV0J69u+LXxbNw+b+ISbtIaXPouDXzz6oZfFJ8/Sfi3ZvAiMG87gZCdu+9c3fBL4GWvHAUgAJzX6LrxeQPg3wXO2p0QgN7ivfS7G/7DuCdJTgAQbsL8mTWPS3Dgx6dLA1ywpyPsqasbfjE8aVczX0LYKT8NALATGO8UcGd5fPTtXvrdDf9ZPEfpAgmM6hRLv+hA8ib9epOQVC84cDlvdcOvhldbd6f8e3QAdgeMG+TfYvoEvwCcNwAIE9IJ45TVDb8mnqPEGGMOkKiLCNdAygZIGwBgSAFiixIbfkCKikVoHZU0rKhZUbg1zStTUubCtM7wp0VNUhy4qFQxaRGYFdFyY1knTesMf1pafjWpGTCoWL3HPOyGkqUYbYc1/JBku7YBQLVmKFavSL/XZoNnWmf4UXyUtCY12yltO4uHN0jadmodpVYbkGtT/owfb/iL4cVBS6VNVZs65y4ixfDqhpsNntk6w5+WLyeHPl7SzrV1oKu5M60z/Gnp/Lrs0tUYHoCy6zaX7vHU+9LvbvhP4Tk34d8E5uPDEIHwd1TKQ4Rb0j9i/MeVeRs4ryesbvg18b6qCWGCupz/KGDeJsovQxSCA4FcbaJTVjf8mngXr9M6qu+bWMccIO723+zrWW7C8COSbB2BoRqyIRIYRMBBnoD8BLSCTgI32Q5r+GF83nY2uyZ9ktI2iB+S+KF8pCCnoURTTlzd8Ivh/Q5bYyMtVIKcpZBa4V3aiW2HNfx5yVGS6sil7zYg5Sv6LG0N2snysIafgg9Kff4YJfItQmsgc7P/tBOeDqm1wls/rOHHpLNcNTfWpcBqlqzVfOZRs3WGH8P1a8qXmKRHbXtrzxEXDOKH7uSCnVqD2TrDj0jRn+CigOgIOHBeBxFjdPDLEOWXnbllAgBn7bQoseFHcS7jPXluLQULz1tpChsl+KmmZVNn7GmrG341vEZOgOLN1YENuXg9FwhUN88iJ4Yfk76+pOubyH8e6useODtNGP686FEAPBRvNiXMadkc3DOtM/yAdI5c7ZbIDYioVXUqCvdYgmdaZ/hz0sfrUuFJ7AZUu2BbZ1iXtDCtM/wpKUcFoJ0XmknrGsVazr+aPtM6w0/Cy5Ww3S0A6xihNdweXb9vWd3wK+C/9U10LTvNzDUj2Bk8s3WGPylf7+qU56B0OSdwE/z7BuZL7IYIfLmc+KXf3fCfwn87w84laFwK1ctp4ku5ndk6w58W6v/n/LfYf68z3HDDDTfccMMN/1PwfwE44PjSFu8cRwAAAABJRU5ErkJggg==\n",
      "--------=_MBC05D33A5-1273-4469-9734-7D78117472D2--\n",
      "\n"
     ]
    }
   ],
   "source": [
    "print(emails[1])"
   ]
  },
  {
   "cell_type": "code",
   "execution_count": 11,
   "metadata": {},
   "outputs": [
    {
     "name": "stderr",
     "output_type": "stream",
     "text": [
      "[INFO] file_cache is only supported with oauth2client<4.0.0\n"
     ]
    }
   ],
   "source": [
    "mailer = Mailer()"
   ]
  },
  {
   "cell_type": "code",
   "execution_count": 15,
   "metadata": {},
   "outputs": [
    {
     "name": "stderr",
     "output_type": "stream",
     "text": [
      "[INFO] Message Id: 17d3fdee4c2b0580 sent.\n",
      "[INFO] Message Id: 17d3fdee6c452dd7 sent.\n",
      "[INFO] Message Id: 17d3fdee8b3c0470 sent.\n",
      "[INFO] Message Id: 17d3fdeebf036b5a sent.\n",
      "[INFO] Message Id: 17d3fdeedc051436 sent.\n",
      "[INFO] Message Id: 17d3fdeef71c9c89 sent.\n",
      "[INFO] Message Id: 17d3fdef06d003e4 sent.\n",
      "[INFO] Message Id: 17d3fdef25eaaca4 sent.\n",
      "[INFO] Message Id: 17d3fdef5c2f3500 sent.\n",
      "[INFO] Message Id: 17d3fdef7af6e96a sent.\n",
      "[INFO] Message Id: 17d3fdef9eeae5fa sent.\n",
      "[INFO] Message Id: 17d3fdefad6fa08d sent.\n",
      "[INFO] Message Id: 17d3fdefddfd584c sent.\n",
      "[INFO] Message Id: 17d3fdefe1f37116 sent.\n",
      "[INFO] Message Id: 17d3fdf00c4a5971 sent.\n",
      "[INFO] Message Id: 17d3fdf02e1ae090 sent.\n",
      "[INFO] Message Id: 17d3fdf05e00e84a sent.\n",
      "[INFO] Message Id: 17d3fdf063d9f07b sent.\n",
      "[INFO] Message Id: 17d3fdf0844b883b sent.\n",
      "[INFO] Message Id: 17d3fdf0a879d82a sent.\n",
      "[INFO] Message Id: 17d3fdf0cccfa684 sent.\n",
      "[INFO] Message Id: 17d3fdf0e713f4f9 sent.\n",
      "[INFO] Message Id: 17d3fdf11c3ed01d sent.\n",
      "[INFO] Message Id: 17d3fdf12b6af790 sent.\n",
      "[INFO] Message Id: 17d3fdf140592229 sent.\n",
      "[INFO] Message Id: 17d3fdf16b5fe77a sent.\n",
      "[INFO] Message Id: 17d3fdf19a2e83ef sent.\n",
      "[INFO] Message Id: 17d3fdf1ab5e338c sent.\n",
      "[INFO] Message Id: 17d3fdf1d412cf30 sent.\n",
      "[INFO] Message Id: 17d3fdf1fc25502d sent.\n",
      "[INFO] Message Id: 17d3fdf21f84fbb8 sent.\n",
      "[INFO] Message Id: 17d3fdf225c8dd9a sent.\n",
      "[INFO] Message Id: 17d3fdf2536ee393 sent.\n",
      "[INFO] Message Id: 17d3fdf2679e7569 sent.\n",
      "[INFO] Message Id: 17d3fdf290143a01 sent.\n"
     ]
    }
   ],
   "source": [
    "sent = []\n",
    "for email in emails[1:]:\n",
    "    msg = mailer.send_message(SENDER, email)\n",
    "    sent.append(msg)"
   ]
  }
 ],
 "metadata": {
  "kernelspec": {
   "display_name": "Python 3 (ipykernel)",
   "language": "python",
   "name": "python3"
  },
  "language_info": {
   "codemirror_mode": {
    "name": "ipython",
    "version": 3
   },
   "file_extension": ".py",
   "mimetype": "text/x-python",
   "name": "python",
   "nbconvert_exporter": "python",
   "pygments_lexer": "ipython3",
   "version": "3.9.7"
  }
 },
 "nbformat": 4,
 "nbformat_minor": 1
}
