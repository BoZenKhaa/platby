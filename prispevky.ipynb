{
 "cells": [
  {
   "cell_type": "code",
   "execution_count": 3,
   "metadata": {},
   "outputs": [],
   "source": [
    "%load_ext autoreload\n",
    "%autoreload 2"
   ]
  },
  {
   "cell_type": "code",
   "execution_count": 4,
   "metadata": {},
   "outputs": [
    {
     "name": "stdout",
     "output_type": "stream",
     "text": [
      "Succesfully read config from: ['./config_prispevky.cfg']\n"
     ]
    }
   ],
   "source": [
    "from gsheet import *\n",
    "from mailer import *\n",
    "from qr_code import *\n",
    "from payment_data import *\n",
    "import pandas as pd\n",
    "import logging"
   ]
  },
  {
   "cell_type": "code",
   "execution_count": 5,
   "metadata": {},
   "outputs": [],
   "source": [
    "logging.basicConfig(\n",
    "    format=\"[%(levelname)s] %(message)s\",\n",
    "    level=logging.INFO\n",
    ")"
   ]
  },
  {
   "cell_type": "code",
   "execution_count": 6,
   "metadata": {},
   "outputs": [
    {
     "name": "stderr",
     "output_type": "stream",
     "text": [
      "[INFO] file_cache is only supported with oauth2client<4.0.0\n"
     ]
    }
   ],
   "source": [
    "sheet = Sheets(SPREADSHEET_ID)"
   ]
  },
  {
   "cell_type": "code",
   "execution_count": 7,
   "metadata": {},
   "outputs": [],
   "source": [
    "# sheet_names = sheet.get_sheet_names()\n",
    "# sheet_name = '4pvs_all'\n",
    "# sheet_name = 'PLATBY_PODZIM_2022_filtered'\n",
    "sheet_name = 'TESTv2'\n",
    "if 'TEST' in sheet_name:\n",
    "    testmode=True\n",
    "else:\n",
    "    testmode=False\n",
    "df = sheet.get_dataframe(sheet_name)"
   ]
  },
  {
   "cell_type": "code",
   "execution_count": 8,
   "metadata": {},
   "outputs": [
    {
     "data": {
      "text/plain": "                             Osoba Evidenční číslo     Jednotka Typ jednotky  \\\n0         Unpaid prispevky, NO sts    113.04.004-1  Albatrosové        Oddíl   \n1       Unpaid prispevky, paid sts    113.04.004-1        Kačky        Oddíl   \n2       Paid prispevky, unpaid sts    113.04.004-1        Bobři        Oddíl   \n3     Unapid prispecky, unpaid STS    113.04.004-1  Albatrosové        Oddíl   \n4       All paid - should not send                  Albatrosové                \n5     No payment - should not send    113.04.004-1      Rackové        Oddíl   \n6  Invalid email - should not send                  Albatrosové                \n7       No email - should not send    113.04.004-1  Albatrosové        Oddíl   \n\n  Typ členství Kategorie Registrační číslo        E-mail (další)  \\\n0        Řádné     Skaut             10049                         \n1        Řádné     Skaut             20148                         \n2        Řádné     Skaut             14811                         \n3        Řádné     Skaut             10126                         \n4                                    12345  mrkosja1@fel.cvut.cz   \n5        Řádné     Skaut             10038                         \n6                                   476456                         \n7        Řádné     Skaut             10039                         \n\n      E-mail (hlavní) Mobil (další)  ...  \\\n0  mrkosjan@seznam.cz                ...   \n1                                    ...   \n2                                    ...   \n3                                    ...   \n4                                    ...   \n5                                    ...   \n6                                    ...   \n7                                    ...   \n\n                                Matka: mail Matka: telefon    Ostatní: mail  \\\n0                        mrkosjan@gmail.com                                   \n1                        mrkosjan@gmail.com      606635345                    \n2                        mrkosjan@gmail.com      606635345                    \n3      mrkosjan@gmail.com, hondzik@skaut.cz      737617645                    \n4                                                                             \n5  mrkosjan@gmail.com, mrkosja1@fel.cvut.cz      739390266                    \n6                                                           dsadssadasga.cz   \n7                                                739390266             None   \n\n  Ostatní: telefon 2/2021 Celkem Poplatek 2022 Poplatek 2/2022   STS  \\\n0                                         1400             700     0   \n1                                          500             500   400   \n2                                         1400             700   200   \n3                     700                 1400             700   200   \n4                     700                 1400             700   200   \n5                                            0               0     0   \n6                                            0               0     0   \n7             None   None                 None            None  None   \n\n  Zaplaceno Zaplaceno STS  \n0         0          None  \n1         0           400  \n2       700          None  \n3         0          None  \n4       700           200  \n5         0          None  \n6         0             0  \n7      None          None  \n\n[8 rows x 25 columns]",
      "text/html": "<div>\n<style scoped>\n    .dataframe tbody tr th:only-of-type {\n        vertical-align: middle;\n    }\n\n    .dataframe tbody tr th {\n        vertical-align: top;\n    }\n\n    .dataframe thead th {\n        text-align: right;\n    }\n</style>\n<table border=\"1\" class=\"dataframe\">\n  <thead>\n    <tr style=\"text-align: right;\">\n      <th></th>\n      <th>Osoba</th>\n      <th>Evidenční číslo</th>\n      <th>Jednotka</th>\n      <th>Typ jednotky</th>\n      <th>Typ členství</th>\n      <th>Kategorie</th>\n      <th>Registrační číslo</th>\n      <th>E-mail (další)</th>\n      <th>E-mail (hlavní)</th>\n      <th>Mobil (další)</th>\n      <th>...</th>\n      <th>Matka: mail</th>\n      <th>Matka: telefon</th>\n      <th>Ostatní: mail</th>\n      <th>Ostatní: telefon</th>\n      <th>2/2021</th>\n      <th>Celkem Poplatek 2022</th>\n      <th>Poplatek 2/2022</th>\n      <th>STS</th>\n      <th>Zaplaceno</th>\n      <th>Zaplaceno STS</th>\n    </tr>\n  </thead>\n  <tbody>\n    <tr>\n      <th>0</th>\n      <td>Unpaid prispevky, NO sts</td>\n      <td>113.04.004-1</td>\n      <td>Albatrosové</td>\n      <td>Oddíl</td>\n      <td>Řádné</td>\n      <td>Skaut</td>\n      <td>10049</td>\n      <td></td>\n      <td>mrkosjan@seznam.cz</td>\n      <td></td>\n      <td>...</td>\n      <td>mrkosjan@gmail.com</td>\n      <td></td>\n      <td></td>\n      <td></td>\n      <td></td>\n      <td>1400</td>\n      <td>700</td>\n      <td>0</td>\n      <td>0</td>\n      <td>None</td>\n    </tr>\n    <tr>\n      <th>1</th>\n      <td>Unpaid prispevky, paid sts</td>\n      <td>113.04.004-1</td>\n      <td>Kačky</td>\n      <td>Oddíl</td>\n      <td>Řádné</td>\n      <td>Skaut</td>\n      <td>20148</td>\n      <td></td>\n      <td></td>\n      <td></td>\n      <td>...</td>\n      <td>mrkosjan@gmail.com</td>\n      <td>606635345</td>\n      <td></td>\n      <td></td>\n      <td></td>\n      <td>500</td>\n      <td>500</td>\n      <td>400</td>\n      <td>0</td>\n      <td>400</td>\n    </tr>\n    <tr>\n      <th>2</th>\n      <td>Paid prispevky, unpaid sts</td>\n      <td>113.04.004-1</td>\n      <td>Bobři</td>\n      <td>Oddíl</td>\n      <td>Řádné</td>\n      <td>Skaut</td>\n      <td>14811</td>\n      <td></td>\n      <td></td>\n      <td></td>\n      <td>...</td>\n      <td>mrkosjan@gmail.com</td>\n      <td>606635345</td>\n      <td></td>\n      <td></td>\n      <td></td>\n      <td>1400</td>\n      <td>700</td>\n      <td>200</td>\n      <td>700</td>\n      <td>None</td>\n    </tr>\n    <tr>\n      <th>3</th>\n      <td>Unapid prispecky, unpaid STS</td>\n      <td>113.04.004-1</td>\n      <td>Albatrosové</td>\n      <td>Oddíl</td>\n      <td>Řádné</td>\n      <td>Skaut</td>\n      <td>10126</td>\n      <td></td>\n      <td></td>\n      <td></td>\n      <td>...</td>\n      <td>mrkosjan@gmail.com, hondzik@skaut.cz</td>\n      <td>737617645</td>\n      <td></td>\n      <td></td>\n      <td>700</td>\n      <td>1400</td>\n      <td>700</td>\n      <td>200</td>\n      <td>0</td>\n      <td>None</td>\n    </tr>\n    <tr>\n      <th>4</th>\n      <td>All paid - should not send</td>\n      <td></td>\n      <td>Albatrosové</td>\n      <td></td>\n      <td></td>\n      <td></td>\n      <td>12345</td>\n      <td>mrkosja1@fel.cvut.cz</td>\n      <td></td>\n      <td></td>\n      <td>...</td>\n      <td></td>\n      <td></td>\n      <td></td>\n      <td></td>\n      <td>700</td>\n      <td>1400</td>\n      <td>700</td>\n      <td>200</td>\n      <td>700</td>\n      <td>200</td>\n    </tr>\n    <tr>\n      <th>5</th>\n      <td>No payment - should not send</td>\n      <td>113.04.004-1</td>\n      <td>Rackové</td>\n      <td>Oddíl</td>\n      <td>Řádné</td>\n      <td>Skaut</td>\n      <td>10038</td>\n      <td></td>\n      <td></td>\n      <td></td>\n      <td>...</td>\n      <td>mrkosjan@gmail.com, mrkosja1@fel.cvut.cz</td>\n      <td>739390266</td>\n      <td></td>\n      <td></td>\n      <td></td>\n      <td>0</td>\n      <td>0</td>\n      <td>0</td>\n      <td>0</td>\n      <td>None</td>\n    </tr>\n    <tr>\n      <th>6</th>\n      <td>Invalid email - should not send</td>\n      <td></td>\n      <td>Albatrosové</td>\n      <td></td>\n      <td></td>\n      <td></td>\n      <td>476456</td>\n      <td></td>\n      <td></td>\n      <td></td>\n      <td>...</td>\n      <td></td>\n      <td></td>\n      <td>dsadssadasga.cz</td>\n      <td></td>\n      <td></td>\n      <td>0</td>\n      <td>0</td>\n      <td>0</td>\n      <td>0</td>\n      <td>0</td>\n    </tr>\n    <tr>\n      <th>7</th>\n      <td>No email - should not send</td>\n      <td>113.04.004-1</td>\n      <td>Albatrosové</td>\n      <td>Oddíl</td>\n      <td>Řádné</td>\n      <td>Skaut</td>\n      <td>10039</td>\n      <td></td>\n      <td></td>\n      <td></td>\n      <td>...</td>\n      <td></td>\n      <td>739390266</td>\n      <td>None</td>\n      <td>None</td>\n      <td>None</td>\n      <td>None</td>\n      <td>None</td>\n      <td>None</td>\n      <td>None</td>\n      <td>None</td>\n    </tr>\n  </tbody>\n</table>\n<p>8 rows × 25 columns</p>\n</div>"
     },
     "execution_count": 8,
     "metadata": {},
     "output_type": "execute_result"
    }
   ],
   "source": [
    "df"
   ]
  },
  {
   "cell_type": "code",
   "execution_count": 9,
   "metadata": {
    "scrolled": false
   },
   "outputs": [
    {
     "name": "stderr",
     "output_type": "stream",
     "text": [
      "[WARNING] Incorrect email address read: 'Ostatní: mail': 'dsadssadasga.cz'; addr-spec local part with no domain\n",
      "[INFO] Of 8 people, missing email: 2,\n",
      "\temailable paid: 3\n",
      "\temailable unpaid: 3.\n",
      " Also there were 1 invalid emails.\n"
     ]
    }
   ],
   "source": [
    "NEEDED_COLS = NeededColumns()\n",
    "pdf=PaymentsDataFrame(df, NEEDED_COLS)"
   ]
  },
  {
   "cell_type": "code",
   "execution_count": 2,
   "outputs": [
    {
     "ename": "NameError",
     "evalue": "name 'pdf' is not defined",
     "output_type": "error",
     "traceback": [
      "\u001B[0;31m---------------------------------------------------------------------------\u001B[0m",
      "\u001B[0;31mNameError\u001B[0m                                 Traceback (most recent call last)",
      "\u001B[0;32m/tmp/ipykernel_2898/2874754688.py\u001B[0m in \u001B[0;36m<module>\u001B[0;34m\u001B[0m\n\u001B[0;32m----> 1\u001B[0;31m \u001B[0mpdf\u001B[0m\u001B[0;34m.\u001B[0m\u001B[0mdf_missing_email\u001B[0m\u001B[0;34m\u001B[0m\u001B[0;34m\u001B[0m\u001B[0m\n\u001B[0m",
      "\u001B[0;31mNameError\u001B[0m: name 'pdf' is not defined"
     ]
    }
   ],
   "source": [
    "pdf.df_missing_email"
   ],
   "metadata": {
    "collapsed": false
   }
  },
  {
   "cell_type": "code",
   "execution_count": null,
   "metadata": {},
   "outputs": [],
   "source": [
    "# !!!NOTE: READ FROM CONFIG FILE!!!\n",
    "# SENDER_ADDRESS = Address(CONFIG['mailer']['sender_name'], addr_spec=CONFIG['mailer']['sender_address'])\n",
    "# EMAIL_SUBJECT = CONFIG['mailer']['subject']"
   ]
  },
  {
   "cell_type": "code",
   "execution_count": null,
   "metadata": {},
   "outputs": [],
   "source": [
    "emails = []\n",
    "\n",
    "\"\"\"\n",
    "!!!!!WARNING! CURRENTLY SET TO EMAIL ALL AVAILABLE EMAIL ADDRESSES!!!!!\n",
    "\"\"\"\n",
    "\n",
    "for i, row in pdf.df_emailable_unpaid.iterrows():\n",
    "    recepient_addresses = row.valid_addresses\n",
    "    pi = PaymentInfo.from_df_row(row, NEEDED_COLS)\n",
    "    email = PaymentEmail(pi, recepient_addresses, testmode=testmode)\n",
    "    emails.append(email.msg)"
   ]
  },
  {
   "cell_type": "code",
   "execution_count": null,
   "metadata": {},
   "outputs": [],
   "source": [
    "with open(f'./test.eml', 'wb') as f:\n",
    "    f.write(bytes(emails[0]))"
   ]
  },
  {
   "cell_type": "code",
   "execution_count": null,
   "metadata": {},
   "outputs": [],
   "source": [
    "mailer = Mailer()\n",
    "sent = []"
   ]
  },
  {
   "cell_type": "code",
   "execution_count": null,
   "metadata": {},
   "outputs": [],
   "source": [
    "for email in emails[1:]:\n",
    "    sent_msg = mailer.send_message(str(email))\n",
    "    sent.append((email, sent_msg))"
   ]
  },
  {
   "cell_type": "code",
   "execution_count": null,
   "outputs": [],
   "source": [],
   "metadata": {
    "collapsed": false
   }
  },
  {
   "cell_type": "code",
   "execution_count": null,
   "outputs": [],
   "source": [],
   "metadata": {
    "collapsed": false
   }
  }
 ],
 "metadata": {
  "kernelspec": {
   "display_name": "Python 3 (ipykernel)",
   "language": "python",
   "name": "python3"
  },
  "language_info": {
   "codemirror_mode": {
    "name": "ipython",
    "version": 3
   },
   "file_extension": ".py",
   "mimetype": "text/x-python",
   "name": "python",
   "nbconvert_exporter": "python",
   "pygments_lexer": "ipython3",
   "version": "3.9.7"
  }
 },
 "nbformat": 4,
 "nbformat_minor": 1
}
