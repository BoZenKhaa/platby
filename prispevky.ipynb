{
 "cells": [
  {
   "cell_type": "code",
   "execution_count": 1,
   "metadata": {},
   "outputs": [],
   "source": [
    "%load_ext autoreload\n",
    "%autoreload 2"
   ]
  },
  {
   "cell_type": "code",
   "execution_count": 2,
   "metadata": {},
   "outputs": [
    {
     "name": "stdout",
     "output_type": "stream",
     "text": [
      "Succesfully read config from: ['./config.cfg']\n"
     ]
    }
   ],
   "source": [
    "import warnings\n",
    "\n",
    "from gsheet import *\n",
    "from mailer import *\n",
    "from payment_info import *\n",
    "from qr_code import *\n",
    "from dataclasses import dataclass\n",
    "from payment_data import *\n",
    "import pandas as pd\n",
    "import dataclasses\n",
    "import logging"
   ]
  },
  {
   "cell_type": "code",
   "execution_count": 3,
   "metadata": {},
   "outputs": [],
   "source": [
    "logging.basicConfig(\n",
    "    format=\"[%(levelname)s] %(message)s\",\n",
    "    level=logging.INFO\n",
    ")"
   ]
  },
  {
   "cell_type": "code",
   "execution_count": 4,
   "metadata": {},
   "outputs": [
    {
     "name": "stderr",
     "output_type": "stream",
     "text": [
      "[INFO] file_cache is only supported with oauth2client<4.0.0\n"
     ]
    }
   ],
   "source": [
    "sheet = Sheets(SPREADSHEET_ID)"
   ]
  },
  {
   "cell_type": "code",
   "execution_count": 15,
   "metadata": {},
   "outputs": [],
   "source": [
    "# sheet_names = sheet.get_sheet_names()\n",
    "sheet_name = '4pvs_all'\n",
    "sheet_name = 'TEST'\n",
    "if sheet_name=='TEST':\n",
    "    testmode=True\n",
    "else:\n",
    "    testmode=False\n",
    "df = sheet.get_dataframe(sheet_name)"
   ]
  },
  {
   "cell_type": "code",
   "execution_count": 16,
   "metadata": {},
   "outputs": [
    {
     "data": {
      "text/html": [
       "<div>\n",
       "<style scoped>\n",
       "    .dataframe tbody tr th:only-of-type {\n",
       "        vertical-align: middle;\n",
       "    }\n",
       "\n",
       "    .dataframe tbody tr th {\n",
       "        vertical-align: top;\n",
       "    }\n",
       "\n",
       "    .dataframe thead th {\n",
       "        text-align: right;\n",
       "    }\n",
       "</style>\n",
       "<table border=\"1\" class=\"dataframe\">\n",
       "  <thead>\n",
       "    <tr style=\"text-align: right;\">\n",
       "      <th></th>\n",
       "      <th>Osoba</th>\n",
       "      <th>Evidenční číslo</th>\n",
       "      <th>Jednotka</th>\n",
       "      <th>Typ jednotky</th>\n",
       "      <th>Typ členství</th>\n",
       "      <th>Kategorie</th>\n",
       "      <th>Registrační číslo</th>\n",
       "      <th>E-mail (další)</th>\n",
       "      <th>E-mail (hlavní)</th>\n",
       "      <th>Mobil (další)</th>\n",
       "      <th>Telefon (další)</th>\n",
       "      <th>Telefon / mobil (hlavní)</th>\n",
       "      <th>Telefon do práce</th>\n",
       "      <th>Otec: mail</th>\n",
       "      <th>Otec: telefon</th>\n",
       "      <th>Matka: mail</th>\n",
       "      <th>Matka: telefon</th>\n",
       "      <th>Ostatní: mail</th>\n",
       "      <th>Ostatní: telefon</th>\n",
       "      <th>2/2021</th>\n",
       "    </tr>\n",
       "  </thead>\n",
       "  <tbody>\n",
       "    <tr>\n",
       "      <th>0</th>\n",
       "      <td>Jan Mrkos</td>\n",
       "      <td>113.04.004-1</td>\n",
       "      <td>Albatrosové</td>\n",
       "      <td>Oddíl</td>\n",
       "      <td>Řádné</td>\n",
       "      <td>Skaut</td>\n",
       "      <td>10049</td>\n",
       "      <td></td>\n",
       "      <td>mrkosjan@seznam.cz</td>\n",
       "      <td></td>\n",
       "      <td></td>\n",
       "      <td></td>\n",
       "      <td></td>\n",
       "      <td>mrkosjan@seznam.cz</td>\n",
       "      <td></td>\n",
       "      <td>mrkosjan@gmail.com</td>\n",
       "      <td>None</td>\n",
       "      <td>None</td>\n",
       "      <td>None</td>\n",
       "      <td>None</td>\n",
       "    </tr>\n",
       "    <tr>\n",
       "      <th>1</th>\n",
       "      <td>Jan Mrkos</td>\n",
       "      <td>113.04.004-1</td>\n",
       "      <td>Kačky</td>\n",
       "      <td>Oddíl</td>\n",
       "      <td>Řádné</td>\n",
       "      <td>Skaut</td>\n",
       "      <td>20148</td>\n",
       "      <td></td>\n",
       "      <td></td>\n",
       "      <td></td>\n",
       "      <td></td>\n",
       "      <td></td>\n",
       "      <td></td>\n",
       "      <td>hondzik@skaut.cz</td>\n",
       "      <td>608960091</td>\n",
       "      <td>mrkosjan@gmail.com</td>\n",
       "      <td>606635345</td>\n",
       "      <td>None</td>\n",
       "      <td>None</td>\n",
       "      <td>None</td>\n",
       "    </tr>\n",
       "    <tr>\n",
       "      <th>2</th>\n",
       "      <td>Jan Mrkos</td>\n",
       "      <td>113.04.004-1</td>\n",
       "      <td>Rackové</td>\n",
       "      <td>Oddíl</td>\n",
       "      <td>Řádné</td>\n",
       "      <td>Skaut</td>\n",
       "      <td>10038</td>\n",
       "      <td></td>\n",
       "      <td></td>\n",
       "      <td></td>\n",
       "      <td></td>\n",
       "      <td></td>\n",
       "      <td></td>\n",
       "      <td></td>\n",
       "      <td>728034688</td>\n",
       "      <td>mrkosjan@gmail.com, mrkosja1@fel.cvut.cz</td>\n",
       "      <td>739390266</td>\n",
       "      <td>None</td>\n",
       "      <td>None</td>\n",
       "      <td>None</td>\n",
       "    </tr>\n",
       "    <tr>\n",
       "      <th>3</th>\n",
       "      <td>INVALID EMAIL</td>\n",
       "      <td></td>\n",
       "      <td>Albatrosové</td>\n",
       "      <td></td>\n",
       "      <td></td>\n",
       "      <td></td>\n",
       "      <td>476456</td>\n",
       "      <td></td>\n",
       "      <td></td>\n",
       "      <td></td>\n",
       "      <td></td>\n",
       "      <td></td>\n",
       "      <td></td>\n",
       "      <td></td>\n",
       "      <td></td>\n",
       "      <td></td>\n",
       "      <td></td>\n",
       "      <td>dsadssadasga.cz</td>\n",
       "      <td>None</td>\n",
       "      <td>None</td>\n",
       "    </tr>\n",
       "    <tr>\n",
       "      <th>4</th>\n",
       "      <td>NO EMAIL</td>\n",
       "      <td>113.04.004-1</td>\n",
       "      <td>Albatrosové</td>\n",
       "      <td>Oddíl</td>\n",
       "      <td>Řádné</td>\n",
       "      <td>Skaut</td>\n",
       "      <td>10039</td>\n",
       "      <td></td>\n",
       "      <td></td>\n",
       "      <td></td>\n",
       "      <td></td>\n",
       "      <td></td>\n",
       "      <td></td>\n",
       "      <td></td>\n",
       "      <td>728034688</td>\n",
       "      <td></td>\n",
       "      <td>739390266</td>\n",
       "      <td>None</td>\n",
       "      <td>None</td>\n",
       "      <td>None</td>\n",
       "    </tr>\n",
       "    <tr>\n",
       "      <th>5</th>\n",
       "      <td>THIS SHOULDNT SEND</td>\n",
       "      <td>113.04.004-1</td>\n",
       "      <td>Albatrosové</td>\n",
       "      <td>Oddíl</td>\n",
       "      <td>Řádné</td>\n",
       "      <td>Skaut</td>\n",
       "      <td>10126</td>\n",
       "      <td></td>\n",
       "      <td></td>\n",
       "      <td></td>\n",
       "      <td></td>\n",
       "      <td>739323572</td>\n",
       "      <td></td>\n",
       "      <td></td>\n",
       "      <td>724318198</td>\n",
       "      <td></td>\n",
       "      <td>737617645</td>\n",
       "      <td></td>\n",
       "      <td></td>\n",
       "      <td>700</td>\n",
       "    </tr>\n",
       "    <tr>\n",
       "      <th>6</th>\n",
       "      <td>THIS SHOULDNT SEND</td>\n",
       "      <td></td>\n",
       "      <td>Albatrosové</td>\n",
       "      <td></td>\n",
       "      <td></td>\n",
       "      <td></td>\n",
       "      <td>12345</td>\n",
       "      <td>mrkosja1@fel.cvut.cz</td>\n",
       "      <td></td>\n",
       "      <td></td>\n",
       "      <td></td>\n",
       "      <td></td>\n",
       "      <td></td>\n",
       "      <td></td>\n",
       "      <td></td>\n",
       "      <td></td>\n",
       "      <td></td>\n",
       "      <td></td>\n",
       "      <td></td>\n",
       "      <td>700</td>\n",
       "    </tr>\n",
       "  </tbody>\n",
       "</table>\n",
       "</div>"
      ],
      "text/plain": [
       "                Osoba Evidenční číslo     Jednotka Typ jednotky Typ členství  \\\n",
       "0           Jan Mrkos    113.04.004-1  Albatrosové        Oddíl        Řádné   \n",
       "1           Jan Mrkos    113.04.004-1        Kačky        Oddíl        Řádné   \n",
       "2           Jan Mrkos    113.04.004-1      Rackové        Oddíl        Řádné   \n",
       "3       INVALID EMAIL                  Albatrosové                             \n",
       "4            NO EMAIL    113.04.004-1  Albatrosové        Oddíl        Řádné   \n",
       "5  THIS SHOULDNT SEND    113.04.004-1  Albatrosové        Oddíl        Řádné   \n",
       "6  THIS SHOULDNT SEND                  Albatrosové                             \n",
       "\n",
       "  Kategorie Registrační číslo        E-mail (další)     E-mail (hlavní)  \\\n",
       "0     Skaut             10049                        mrkosjan@seznam.cz   \n",
       "1     Skaut             20148                                             \n",
       "2     Skaut             10038                                             \n",
       "3                      476456                                             \n",
       "4     Skaut             10039                                             \n",
       "5     Skaut             10126                                             \n",
       "6                       12345  mrkosja1@fel.cvut.cz                       \n",
       "\n",
       "  Mobil (další) Telefon (další) Telefon / mobil (hlavní) Telefon do práce  \\\n",
       "0                                                                           \n",
       "1                                                                           \n",
       "2                                                                           \n",
       "3                                                                           \n",
       "4                                                                           \n",
       "5                                              739323572                    \n",
       "6                                                                           \n",
       "\n",
       "           Otec: mail Otec: telefon                               Matka: mail  \\\n",
       "0  mrkosjan@seznam.cz                                      mrkosjan@gmail.com   \n",
       "1    hondzik@skaut.cz     608960091                        mrkosjan@gmail.com   \n",
       "2                         728034688  mrkosjan@gmail.com, mrkosja1@fel.cvut.cz   \n",
       "3                                                                               \n",
       "4                         728034688                                             \n",
       "5                         724318198                                             \n",
       "6                                                                               \n",
       "\n",
       "  Matka: telefon    Ostatní: mail Ostatní: telefon 2/2021  \n",
       "0           None             None             None   None  \n",
       "1      606635345             None             None   None  \n",
       "2      739390266             None             None   None  \n",
       "3                 dsadssadasga.cz             None   None  \n",
       "4      739390266             None             None   None  \n",
       "5      737617645                                      700  \n",
       "6                                                     700  "
      ]
     },
     "execution_count": 16,
     "metadata": {},
     "output_type": "execute_result"
    }
   ],
   "source": [
    "df"
   ]
  },
  {
   "cell_type": "code",
   "execution_count": 22,
   "metadata": {
    "scrolled": true
   },
   "outputs": [
    {
     "name": "stderr",
     "output_type": "stream",
     "text": [
      "[WARNING] Incorrect email address read: 'Ostatní: mail': 'dsadssadasga.cz'; addr-spec local part with no domain\n",
      "[INFO] Of 7 people, missing email: 3,\n",
      "\temailable paid: 1\n",
      "\temailable unpaid: 3.\n",
      " Also there were 1 invalid emails.\n"
     ]
    }
   ],
   "source": [
    "pdf=PaymentsDataFrame(df, NEEDED_COLS)"
   ]
  },
  {
   "cell_type": "code",
   "execution_count": 23,
   "metadata": {},
   "outputs": [],
   "source": [
    "SENDER_ADDRESS = Address(\"4. přístav Jana Nerudy\", addr_spec=\"4pvs@skaut.cz\")\n",
    "EMAIL_SUBJECT = \"Test\""
   ]
  },
  {
   "cell_type": "code",
   "execution_count": 27,
   "metadata": {},
   "outputs": [],
   "source": [
    "emails = []\n",
    "for i, row in pdf.df_emailable_unpaid.iterrows():\n",
    "    recepient_addresses = row.valid_addresses\n",
    "    pi = PaymentInfo.from_df_row(row)\n",
    "    email = PaymentEmail(EMAIL_SUBJECT, pi, SENDER_ADDRESS, recepient_addresses, testmode=testmode)\n",
    "    emails.append(email.msg)"
   ]
  },
  {
   "cell_type": "code",
   "execution_count": 11,
   "metadata": {},
   "outputs": [
    {
     "name": "stderr",
     "output_type": "stream",
     "text": [
      "[INFO] file_cache is only supported with oauth2client<4.0.0\n"
     ]
    }
   ],
   "source": [
    "mailer = Mailer()"
   ]
  },
  {
   "cell_type": "code",
   "execution_count": 15,
   "metadata": {},
   "outputs": [
    {
     "name": "stderr",
     "output_type": "stream",
     "text": [
      "[INFO] Message Id: 17d3fdee4c2b0580 sent.\n",
      "[INFO] Message Id: 17d3fdee6c452dd7 sent.\n",
      "[INFO] Message Id: 17d3fdee8b3c0470 sent.\n",
      "[INFO] Message Id: 17d3fdeebf036b5a sent.\n",
      "[INFO] Message Id: 17d3fdeedc051436 sent.\n",
      "[INFO] Message Id: 17d3fdeef71c9c89 sent.\n",
      "[INFO] Message Id: 17d3fdef06d003e4 sent.\n",
      "[INFO] Message Id: 17d3fdef25eaaca4 sent.\n",
      "[INFO] Message Id: 17d3fdef5c2f3500 sent.\n",
      "[INFO] Message Id: 17d3fdef7af6e96a sent.\n",
      "[INFO] Message Id: 17d3fdef9eeae5fa sent.\n",
      "[INFO] Message Id: 17d3fdefad6fa08d sent.\n",
      "[INFO] Message Id: 17d3fdefddfd584c sent.\n",
      "[INFO] Message Id: 17d3fdefe1f37116 sent.\n",
      "[INFO] Message Id: 17d3fdf00c4a5971 sent.\n",
      "[INFO] Message Id: 17d3fdf02e1ae090 sent.\n",
      "[INFO] Message Id: 17d3fdf05e00e84a sent.\n",
      "[INFO] Message Id: 17d3fdf063d9f07b sent.\n",
      "[INFO] Message Id: 17d3fdf0844b883b sent.\n",
      "[INFO] Message Id: 17d3fdf0a879d82a sent.\n",
      "[INFO] Message Id: 17d3fdf0cccfa684 sent.\n",
      "[INFO] Message Id: 17d3fdf0e713f4f9 sent.\n",
      "[INFO] Message Id: 17d3fdf11c3ed01d sent.\n",
      "[INFO] Message Id: 17d3fdf12b6af790 sent.\n",
      "[INFO] Message Id: 17d3fdf140592229 sent.\n",
      "[INFO] Message Id: 17d3fdf16b5fe77a sent.\n",
      "[INFO] Message Id: 17d3fdf19a2e83ef sent.\n",
      "[INFO] Message Id: 17d3fdf1ab5e338c sent.\n",
      "[INFO] Message Id: 17d3fdf1d412cf30 sent.\n",
      "[INFO] Message Id: 17d3fdf1fc25502d sent.\n",
      "[INFO] Message Id: 17d3fdf21f84fbb8 sent.\n",
      "[INFO] Message Id: 17d3fdf225c8dd9a sent.\n",
      "[INFO] Message Id: 17d3fdf2536ee393 sent.\n",
      "[INFO] Message Id: 17d3fdf2679e7569 sent.\n",
      "[INFO] Message Id: 17d3fdf290143a01 sent.\n"
     ]
    }
   ],
   "source": [
    "sent = []\n",
    "for email in emails[1:]:\n",
    "    msg = mailer.send_message(SENDER, email)\n",
    "    sent.append(msg)"
   ]
  }
 ],
 "metadata": {
  "kernelspec": {
   "display_name": "Python 3 (ipykernel)",
   "language": "python",
   "name": "python3"
  },
  "language_info": {
   "codemirror_mode": {
    "name": "ipython",
    "version": 3
   },
   "file_extension": ".py",
   "mimetype": "text/x-python",
   "name": "python",
   "nbconvert_exporter": "python",
   "pygments_lexer": "ipython3",
   "version": "3.9.7"
  }
 },
 "nbformat": 4,
 "nbformat_minor": 1
}