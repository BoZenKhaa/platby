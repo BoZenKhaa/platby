{
 "cells": [
  {
   "cell_type": "code",
   "execution_count": 44,
   "metadata": {},
   "outputs": [
    {
     "name": "stdout",
     "output_type": "stream",
     "text": [
      "The autoreload extension is already loaded. To reload it, use:\n",
      "  %reload_ext autoreload\n"
     ]
    }
   ],
   "source": [
    "%load_ext autoreload\n",
    "%autoreload 2"
   ]
  },
  {
   "cell_type": "code",
   "execution_count": 45,
   "metadata": {},
   "outputs": [],
   "source": [
    "import warnings\n",
    "\n",
    "from gsheet import *\n",
    "from mailer import *\n",
    "from payment_info import *\n",
    "from qr_code import *\n",
    "from dataclasses import dataclass\n",
    "from payment_data import *\n",
    "import pandas as pd\n",
    "import dataclasses\n",
    "import logging"
   ]
  },
  {
   "cell_type": "code",
   "execution_count": 46,
   "metadata": {},
   "outputs": [],
   "source": [
    "logging.basicConfig(\n",
    "    format=\"[%(levelname)s] %(message)s\",\n",
    "    level=logging.INFO\n",
    ")"
   ]
  },
  {
   "cell_type": "code",
   "execution_count": 47,
   "metadata": {},
   "outputs": [
    {
     "name": "stderr",
     "output_type": "stream",
     "text": [
      "[INFO] file_cache is only supported with oauth2client<4.0.0\n"
     ]
    }
   ],
   "source": [
    "sheet = Sheets(SPREADSHEET_ID)"
   ]
  },
  {
   "cell_type": "code",
   "execution_count": 48,
   "metadata": {},
   "outputs": [],
   "source": [
    "# sheet_names = sheet.get_sheet_names()\n",
    "sheet_name = 'TEST'\n",
    "df = sheet.get_dataframe(sheet_name)"
   ]
  },
  {
   "cell_type": "code",
   "execution_count": 49,
   "metadata": {
    "scrolled": true
   },
   "outputs": [
    {
     "name": "stderr",
     "output_type": "stream",
     "text": [
      "[INFO] Of 6 people, missing email: 2, emailable paid:1 emailable unpaid:3\n"
     ]
    }
   ],
   "source": [
    "pdf=PaymentsDataFrame(df, NEEDED_COLS)"
   ]
  },
  {
   "cell_type": "code",
   "execution_count": 50,
   "metadata": {},
   "outputs": [
    {
     "data": {
      "text/plain": [
       "'Rackové'"
      ]
     },
     "execution_count": 50,
     "metadata": {},
     "output_type": "execute_result"
    }
   ],
   "source": [
    "row[1]"
   ]
  },
  {
   "cell_type": "code",
   "execution_count": 51,
   "metadata": {},
   "outputs": [
    {
     "ename": "AttributeError",
     "evalue": "'str' object has no attribute 'loc'",
     "output_type": "error",
     "traceback": [
      "\u001B[0;31m---------------------------------------------------------------------------\u001B[0m",
      "\u001B[0;31mAttributeError\u001B[0m                            Traceback (most recent call last)",
      "\u001B[0;32m/tmp/ipykernel_1495/1838217785.py\u001B[0m in \u001B[0;36m<module>\u001B[0;34m\u001B[0m\n\u001B[0;32m----> 1\u001B[0;31m \u001B[0mPaymentInfo\u001B[0m\u001B[0;34m.\u001B[0m\u001B[0mfrom_df_row\u001B[0m\u001B[0;34m(\u001B[0m\u001B[0mrow\u001B[0m\u001B[0;34m[\u001B[0m\u001B[0;36m1\u001B[0m\u001B[0;34m]\u001B[0m\u001B[0;34m)\u001B[0m\u001B[0;34m\u001B[0m\u001B[0;34m\u001B[0m\u001B[0m\n\u001B[0m",
      "\u001B[0;32m/mnt/c/Users/Honza/scth/projects/4pvs_prispevky_qr_kod/payment_info.py\u001B[0m in \u001B[0;36mfrom_df_row\u001B[0;34m(cls, row)\u001B[0m\n\u001B[1;32m     31\u001B[0m     \u001B[0;34m@\u001B[0m\u001B[0mclassmethod\u001B[0m\u001B[0;34m\u001B[0m\u001B[0;34m\u001B[0m\u001B[0m\n\u001B[1;32m     32\u001B[0m     \u001B[0;32mdef\u001B[0m \u001B[0mfrom_df_row\u001B[0m\u001B[0;34m(\u001B[0m\u001B[0mcls\u001B[0m\u001B[0;34m,\u001B[0m \u001B[0mrow\u001B[0m\u001B[0;34m:\u001B[0m \u001B[0mpd\u001B[0m\u001B[0;34m.\u001B[0m\u001B[0mSeries\u001B[0m\u001B[0;34m)\u001B[0m\u001B[0;34m:\u001B[0m\u001B[0;34m\u001B[0m\u001B[0;34m\u001B[0m\u001B[0m\n\u001B[0;32m---> 33\u001B[0;31m         \u001B[0mtroop\u001B[0m \u001B[0;34m=\u001B[0m \u001B[0mrow\u001B[0m\u001B[0;34m.\u001B[0m\u001B[0mloc\u001B[0m\u001B[0;34m[\u001B[0m\u001B[0mNEEDED_COLS\u001B[0m\u001B[0;34m.\u001B[0m\u001B[0mtroop\u001B[0m\u001B[0;34m]\u001B[0m\u001B[0;34m\u001B[0m\u001B[0;34m\u001B[0m\u001B[0m\n\u001B[0m\u001B[1;32m     34\u001B[0m         return cls(row.loc[NEEDED_COLS.name],\n\u001B[1;32m     35\u001B[0m                    \u001B[0mrow\u001B[0m\u001B[0;34m.\u001B[0m\u001B[0mloc\u001B[0m\u001B[0;34m[\u001B[0m\u001B[0mNEEDED_COLS\u001B[0m\u001B[0;34m.\u001B[0m\u001B[0mreg_num\u001B[0m\u001B[0;34m]\u001B[0m\u001B[0;34m,\u001B[0m\u001B[0;34m\u001B[0m\u001B[0;34m\u001B[0m\u001B[0m\n",
      "\u001B[0;31mAttributeError\u001B[0m: 'str' object has no attribute 'loc'"
     ]
    }
   ],
   "source": [
    "PaymentInfo.from_df_row(row[1])"
   ]
  },
  {
   "cell_type": "code",
   "execution_count": 35,
   "metadata": {},
   "outputs": [],
   "source": [
    "SENDER=\"4pvs@skaut.cz\"\n",
    "SENDER_NAME=\"4. přístav VS\""
   ]
  },
  {
   "cell_type": "code",
   "execution_count": 55,
   "metadata": {},
   "outputs": [],
   "source": [
    "emails = []\n",
    "for i, row in pdf.df_emailable_unpaid.iterrows():\n",
    "    email = row.selected_email\n",
    "    pi = PaymentInfo.from_df_row(row)\n",
    "    emails.append(PaymentEmail(pi, SENDER, SENDER_NAME, email).create_email())\n",
    "    break"
   ]
  },
  {
   "cell_type": "code",
   "execution_count": 57,
   "metadata": {
    "scrolled": false
   },
   "outputs": [
    {
     "name": "stdout",
     "output_type": "stream",
     "text": [
      "From: Hondzik <4pvs@skaut.cz>\n",
      "Subject: =?utf-8?q?4=2e=20p=c5=99=c3=adstav=20Jana=20Nerudy=20-=20p=c5=99=c3=adsp=c4=9bvky=20podzim=202021=20=28v=c3=bdzva=20k=20platb=c4=9b=29?=\n",
      "To: Barton Theodor <mrkosjan@seznam.cz>\n",
      "Reply-To: 4. přístav VS <4pvs@skaut.cz>\n",
      "User-Agent: 4pvsPaymentMailer/0.1\n",
      "Mime-Version: 1.0\n",
      "Content-Type: multipart/related; boundary=\"------=_MB0F754F0C-61BD-4A84-840B-E6407FCE2956\"\n",
      "\n",
      "--------=_MB0F754F0C-61BD-4A84-840B-E6407FCE2956\n",
      "Content-Type: multipart/alternative;\n",
      " boundary=\"------=_MBA58AF655-AD20-489B-8221-116611702BF4\"\n",
      "\n",
      "--------=_MBA58AF655-AD20-489B-8221-116611702BF4\n",
      "Content-Type: text/plain; charset=utf-8; format=flowed\n",
      "Content-Transfer-Encoding: quoted-printable\n",
      "\n",
      "Dobr=C3=BD den / Ahoj,\n",
      "od tohoto =C5=A1koln=C3=ADho roku se budeme sna=C5=BEit vyb=C3=ADrat p=C5=\n",
      "=99=C3=ADsp=C4=9Bvky=20\n",
      "centralizovan=C4=9B, informace o platb=C3=A1ch tak nebudou pos=C3=ADlat odd=\n",
      "=C3=ADl=C3=A1ci, ale=20\n",
      "p=C5=99=C3=ADmo p=C5=99=C3=ADstav.\n",
      "\n",
      "Kdo plat=C3=AD p=C5=99=C3=ADsp=C4=9Bvky\n",
      "=C4=8Clensk=C3=A9 p=C5=99=C3=ADsp=C4=9Bvky plat=C3=AD ka=C5=BEd=C3=BD evido=\n",
      "van=C3=BD =C4=8Dlen odd=C3=ADlu nebo p=C5=99=C3=ADstavu, na=20\n",
      "z=C3=A1klad=C4=9B t=C3=A9to evidence V=C3=A1m pos=C3=ADl=C3=A1me tento mail=\n",
      ". V p=C5=99=C3=ADpad=C4=9B, =C5=BEe V=C3=A1=C5=A1=20\n",
      "syn/dcera chce b=C3=BDt =C4=8Dlenem odd=C3=ADlu, pros=C3=ADme o proveden=C3=\n",
      "=AD platby =C4=8Dlensk=C3=A9ho=20\n",
      "p=C5=99=C3=ADsp=C4=9Bvku na z=C3=A1klad=C4=9B informac=C3=AD n=C3=AD=C5=BEe=\n",
      ". Z=C3=A1rove=C5=88 samoz=C5=99ejm=C4=9B popros=C3=ADme o=20\n",
      "zpr=C3=A1vu v p=C5=99=C3=ADpad=C4=9B, =C5=BEe syn/dcera ji=C5=BE nad=C3=A1l=\n",
      "e chodit nebude.\n",
      "\n",
      "V=C3=BD=C5=A1e registrace\n",
      "=C4=8Clensk=C3=BD p=C5=99=C3=ADsp=C4=9Bvek na prvn=C3=AD pololet=C3=AD =C5=\n",
      "=A1koln=C3=ADho roku 2021/22 je stejn=C3=BD jako=20\n",
      "v minulosti, tedy 700 K=C4=8D.\n",
      "\n",
      "Z vybran=C3=BDch =C4=8Dlensk=C3=BDch p=C5=99=C3=ADsp=C4=9Bvk=C5=AF jde =C4=\n",
      "=8D=C3=A1st celost=C3=A1tn=C3=AD organizaci Jun=C3=A1k,=20\n",
      "kter=C3=A1 plat=C3=AD poji=C5=A1t=C4=9Bn=C3=AD d=C4=9Bt=C3=AD, vyd=C3=A1v=\n",
      "=C3=A1n=C3=AD a zas=C3=ADl=C3=A1n=C3=AD =C4=8Dasopis=C5=AF a dal=C5=A1=C3=\n",
      "=AD podporu=20\n",
      "odd=C3=ADl=C5=AF. Krom toho jsou p=C5=99=C3=ADsp=C4=9Bvky =C4=8D=C3=A1ste=\n",
      "=C4=8Dn=C4=9B hrazeny provozn=C3=AD n=C3=A1klady=20\n",
      "odd=C3=ADl=C5=AF (materi=C3=A1l a vybaven=C3=AD, p=C5=99=C3=ADsp=C4=9Bvky n=\n",
      "a vzd=C4=9Bl=C3=A1v=C3=A1n=C3=AD a p=C5=99ipoji=C5=A1t=C4=9Bn=C3=AD=20\n",
      "vedouc=C3=ADch, odd=C3=ADlov=C3=A9 akce), n=C3=A1klady p=C5=99=C3=ADstavu (=\n",
      "p=C5=99=C3=ADstavn=C3=AD akce, provoz=20\n",
      "kluboven - elekt=C5=99ina, plyn, voda, n=C3=A1jem a dal=C5=A1=C3=AD slu=C5=\n",
      "=BEby) a d=C3=A1le je z nich=20\n",
      "tvo=C5=99ena finan=C4=8Dn=C3=AD rezerva. Na=C5=A1e st=C5=99edisko se tak=C3=\n",
      "=A9 pro zaji=C5=A1t=C4=9Bn=C3=AD sv=C3=A9=20\n",
      "=C4=8Dinnosti sna=C5=BE=C3=AD ka=C5=BEdoro=C4=8Dn=C4=9B z=C3=ADsk=C3=A1vat=\n",
      " finan=C4=8Dn=C3=AD podporu i z dotac=C3=AD a grant=C5=AF=20\n",
      "od M=C4=8C Praha 3, M=C5=A0MT a MHMP. Za jejich podporu jim d=C4=9Bkujeme.\n",
      "Skauti pracuj=C3=AD jako sdru=C5=BEen=C3=AD dobrovoln=C3=ADk=C5=AF - lid=C3=\n",
      "=A9, kte=C5=99=C3=AD se pod=C3=ADl=C3=AD na=20\n",
      "veden=C3=AD odd=C3=ADlu =C4=8Di p=C5=99=C3=ADstavu si za svoji =C4=8Dinnost =\n",
      "nen=C3=A1rokuj=C3=AD =C5=BE=C3=A1dnou finan=C4=8Dn=C3=AD=20\n",
      "odm=C4=9Bnu.\n",
      "\n",
      "V p=C5=99=C3=ADpad=C4=9B sourozenc=C5=AF pros=C3=ADme prove=C4=8Fte platby=\n",
      " jednotliv=C4=9B, zjednodu=C5=A1=C3=AD n=C3=A1m=20\n",
      "to pr=C3=A1ci.\n",
      "\n",
      "Informace k platb=C4=9B:\n",
      "=C3=9A=C4=8Del platby/Pozn=C3=A1mka: Barton Theodor\n",
      "=C4=8C=C3=ADslo =C3=BA=C4=8Dtu: CZ2220100000002101999393\n",
      "=C4=8C=C3=A1stka: 700 K=C4=8D\n",
      "Datum splatnosti: 20211031\n",
      "VS: 10049\n",
      "SS: 1\n",
      "\n",
      "Pro zrychlen=C3=AD platby jsme p=C5=99ipravili QR k=C3=B3d, kter=C3=BD lze=\n",
      " pou=C5=BE=C3=ADt p=C5=99i=20\n",
      "placen=C3=AD v mobiln=C3=ADch aplikac=C3=ADch bank. Pou=C5=BEit=C3=AD QR k=\n",
      "=C3=B3du =C5=A1et=C5=99=C3=AD v=C3=A1=C5=A1 =C4=8Das a=20\n",
      "sni=C5=BEuje pravd=C4=9Bpodobnost p=C5=99eklepu.\n",
      "\n",
      "Toto je prvn=C3=AD pokus s nov=C3=BDm syst=C3=A9mem placen=C3=AD p=C5=99=C3=\n",
      "=ADsp=C4=9Bvk=C5=AF, nev=C3=A1hejte se=20\n",
      "ozvat v p=C5=99=C3=ADpad=C4=9B =C5=BEe budete m=C3=ADt probl=C3=A9m =C4=8Di =\n",
      "p=C5=99ipom=C3=ADnku. V p=C5=99=C3=ADpad=C4=9B=20\n",
      "jak=C3=BDchkoliv dal=C5=A1=C3=ADch p=C5=99ipom=C3=ADnek =C4=8Di dotaz=C5=AF =\n",
      "nejen ohledn=C4=9B plateb jsem V=C3=A1m=20\n",
      "samoz=C5=99ejm=C4=9B tak=C3=A9 k dispozici. Z=C3=A1rove=C5=88 m=C5=AF=C5=BE=\n",
      "ete kontaktovat jednotliv=C3=A9=20\n",
      "vedouc=C3=AD odd=C3=ADl=C5=AF.\n",
      "\n",
      "S pod=C4=9Bkov=C3=A1n=C3=ADm a p=C5=99=C3=A1n=C3=ADm p=C4=9Bkn=C3=A9ho podz=\n",
      "imu,\n",
      "Hondzik - Jan Mrkos, vedouc=C3=AD 4. p=C5=99=C3=ADstavu\n",
      "--------=_MBA58AF655-AD20-489B-8221-116611702BF4\n",
      "Content-Type: text/html; charset=utf-8\n",
      "Content-Transfer-Encoding: quoted-printable\n",
      "\n",
      "<html><head>\n",
      "\n",
      "<style id=3D\"css_styles\" type=3D\"text/css\"><!--blockquote.cite { margin-lef=\n",
      "t: 5px; margin-right: 0px; padding-left: 10px; padding-right:0px; border-le=\n",
      "ft: 1px solid #cccccc }\n",
      "blockquote.cite2 {margin-left: 5px; margin-right: 0px; padding-left: 10px;=\n",
      " padding-right:0px; border-left: 1px solid #cccccc; margin-top: 3px; padding=\n",
      "-top: 0px; }\n",
      "a img { border: 0px; }\n",
      "li[style=3D'text-align: center;'], li[style=3D'text-align: center; '], li[s=\n",
      "tyle=3D'text-align: right;'], li[style=3D'text-align: right; '] {  list-sty=\n",
      "le-position: inside;}\n",
      "body { font-family: Segoe UI; font-size: 12pt;   }=20\n",
      ".quote { margin-left: 1em; margin-right: 1em; border-left: 5px #ebebeb soli=\n",
      "d; padding-left: 0.3em; }--></style></head><body class=3D\"plain\"><div>Dobr=\n",
      "=C3=BD den / Ahoj,\n",
      "</div><div>od tohoto =C5=A1koln=C3=ADho roku se budeme sna=C5=BEit vyb=C3=\n",
      "=ADrat p=C5=99=C3=ADsp=C4=9Bvky centralizovan=C4=9B, informace o platb=C3=\n",
      "=A1ch tak nebudou pos=C3=ADlat odd=C3=ADl=C3=A1ci, ale p=C5=99=C3=ADmo p=C5=\n",
      "=99=C3=ADstav.=C2=A0</div><div><br /></div><div><b>Kdo plat=C3=AD p=C5=99=\n",
      "=C3=ADsp=C4=9Bvky</b></div><div>=C4=8Clensk=C3=A9 p=C5=99=C3=ADsp=C4=9Bvky=\n",
      " plat=C3=AD ka=C5=BEd=C3=BD evidovan=C3=BD =C4=8Dlen odd=C3=ADlu nebo p=C5=\n",
      "=99=C3=ADstavu, na z=C3=A1klad=C4=9B t=C3=A9to evidence V=C3=A1m pos=C3=ADl=\n",
      "=C3=A1me tento mail. V p=C5=99=C3=ADpad=C4=9B, =C5=BEe V=C3=A1=C5=A1 syn/dc=\n",
      "era chce b=C3=BDt =C4=8Dlenem odd=C3=ADlu, pros=C3=ADme o proveden=C3=AD pl=\n",
      "atby =C4=8Dlensk=C3=A9ho p=C5=99=C3=ADsp=C4=9Bvku na z=C3=A1klad=C4=9B info=\n",
      "rmac=C3=AD n=C3=AD=C5=BEe. Z=C3=A1rove=C5=88 samoz=C5=99ejm=C4=9B popros=C3=\n",
      "=ADme o zpr=C3=A1vu v p=C5=99=C3=ADpad=C4=9B, =C5=BEe syn/dcera ji=C5=BE na=\n",
      "d=C3=A1le chodit nebude.</div><div><br /></div><div><b>V=C3=BD=C5=A1e regis=\n",
      "trace\n",
      "</b></div><div>=C4=8Clensk=C3=BD p=C5=99=C3=ADsp=C4=9Bvek na prvn=C3=AD pol=\n",
      "olet=C3=AD =C5=A1koln=C3=ADho roku 2021/22 je stejn=C3=BD jako v minulosti, =\n",
      "tedy 700 K=C4=8D.=C2=A0</div><div><br /></div><div>Z vybran=C3=BDch =C4=8D=\n",
      "lensk=C3=BDch p=C5=99=C3=ADsp=C4=9Bvk=C5=AF jde =C4=8D=C3=A1st celost=C3=A1=\n",
      "tn=C3=AD organizaci Jun=C3=A1k, kter=C3=A1 plat=C3=AD poji=C5=A1t=C4=9Bn=C3=\n",
      "=AD d=C4=9Bt=C3=AD, vyd=C3=A1v=C3=A1n=C3=AD a zas=C3=ADl=C3=A1n=C3=AD =C4=\n",
      "=8Dasopis=C5=AF a dal=C5=A1=C3=AD podporu odd=C3=ADl=C5=AF. Krom toho jsou=\n",
      " p=C5=99=C3=ADsp=C4=9Bvky =C4=8D=C3=A1ste=C4=8Dn=C4=9B hrazeny provozn=C3=AD =\n",
      "n=C3=A1klady odd=C3=ADl=C5=AF (materi=C3=A1l a vybaven=C3=AD, p=C5=99=C3=\n",
      "=ADsp=C4=9Bvky=C2=A0na vzd=C4=9Bl=C3=A1v=C3=A1n=C3=AD a p=C5=99ipoji=C5=A1t=\n",
      "=C4=9Bn=C3=AD vedouc=C3=ADch, odd=C3=ADlov=C3=A9 akce), n=C3=A1klady p=C5=\n",
      "=99=C3=ADstavu (p=C5=99=C3=ADstavn=C3=AD akce, provoz kluboven - elekt=C5=\n",
      "=99ina, plyn, voda, n=C3=A1jem a dal=C5=A1=C3=AD slu=C5=BEby) a d=C3=A1le j=\n",
      "e z nich tvo=C5=99ena finan=C4=8Dn=C3=AD rezerva.=C2=A0<span style=3D\"font-=\n",
      "size: 12pt;\">Na=C5=A1e st=C5=99edisko se tak=C3=A9 pro zaji=C5=A1t=C4=9Bn=\n",
      "=C3=AD sv=C3=A9 =C4=8Dinnosti sna=C5=BE=C3=AD ka=C5=BEdoro=C4=8Dn=C4=9B z=\n",
      "=C3=ADsk=C3=A1vat finan=C4=8Dn=C3=AD podporu i z dotac=C3=AD a grant=C5=AF=\n",
      " od M=C4=8C Praha 3, M=C5=A0MT a MHMP. Za jejich podporu jim d=C4=9Bkujeme.=\n",
      "=C2=A0</span></div><div>Skauti pracuj=C3=AD jako sdru=C5=BEen=C3=AD dobrovo=\n",
      "ln=C3=ADk=C5=AF - lid=C3=A9, kte=C5=99=C3=AD se pod=C3=ADl=C3=AD na veden=\n",
      "=C3=AD odd=C3=ADlu =C4=8Di p=C5=99=C3=ADstavu si za svoji =C4=8Dinnost nen=\n",
      "=C3=A1rokuj=C3=AD =C5=BE=C3=A1dnou finan=C4=8Dn=C3=AD odm=C4=9Bnu.\n",
      "</div><div><br /></div><div>V p=C5=99=C3=ADpad=C4=9B sourozenc=C5=AF pros=\n",
      "=C3=ADme prove=C4=8Fte platby jednotliv=C4=9B, zjednodu=C5=A1=C3=AD n=C3=A1=\n",
      "m to pr=C3=A1ci.\n",
      "</div><div><font size=3D\"3\" style=3D\"font-size: 16px; background-color: rgb=\n",
      "(226, 226, 226);\"><br /></font></div><b style=3D\"font-size: 12pt;\">Informac=\n",
      "e k platb=C4=9B:=C2=A0</b><br />=C3=9A=C4=8Del platby/Pozn=C3=A1mka: Barton Theodor=\n",
      "=C2=A0<br />=C4=8C=C3=ADslo =C3=BA=C4=8Dtu: CZ2220100000002101999393<br />=C4=8C=C3=\n",
      "=A1stka: 700 K=C4=8D=C2=A0<br />Datum splatnosti: 20211031=C2=A0<br=\n",
      " />VS: 10049=C2=A0<br /><div><font size=3D\"3\" style=3D\"font-size=\n",
      ": 16px;\">SS: 1</font></div><div><font size=3D\"3\" style=3D\"f=\n",
      "ont-size: 16px;\"><br /></font></div><div><img src=3D\"cid:em06a68a76-0460-47=\n",
      "6d-a906-b69f6ef07559@escarabajo\" border=3D\"0\" width=3D\"320\" height=3D\"320\"=\n",
      " /></div><div><font size=3D\"3\" style=3D\"font-size: 16px;\">Pro zrychlen=C3=AD =\n",
      "platby jsme p=C5=99ipravili QR k=C3=B3d, kter=C3=BD lze pou=C5=BE=C3=ADt p=\n",
      "=C5=99i placen=C3=AD v mobiln=C3=ADch aplikac=C3=ADch bank. Pou=C5=BEit=C3=\n",
      "=AD QR k=C3=B3du =C5=A1et=C5=99=C3=AD v=C3=A1=C5=A1 =C4=8Das a sni=C5=BEuje =\n",
      "pravd=C4=9Bpodobnost p=C5=99eklepu.\n",
      "</font></div><div><br /></div><div>Toto je prvn=C3=AD pokus s nov=C3=BDm sy=\n",
      "st=C3=A9mem placen=C3=AD p=C5=99=C3=ADsp=C4=9Bvk=C5=AF, nev=C3=A1hejte se o=\n",
      "zvat v p=C5=99=C3=ADpad=C4=9B =C5=BEe budete m=C3=ADt probl=C3=A9m =C4=8Di=\n",
      " p=C5=99ipom=C3=ADnku. V p=C5=99=C3=ADpad=C4=9B jak=C3=BDchkoliv dal=C5=A1=\n",
      "=C3=ADch p=C5=99ipom=C3=ADnek =C4=8Di dotaz=C5=AF nejen ohledn=C4=9B plateb =\n",
      "jsem V=C3=A1m samoz=C5=99ejm=C4=9B tak=C3=A9 k dispozici. Z=C3=A1rove=C5=\n",
      "=88 m=C5=AF=C5=BEete kontaktovat jednotliv=C3=A9 vedouc=C3=AD odd=C3=ADl=C5=\n",
      "=AF.\n",
      "</div><div><br /></div><div>S pod=C4=9Bkov=C3=A1n=C3=ADm a p=C5=99=C3=A1n=\n",
      "=C3=ADm p=C4=9Bkn=C3=A9ho podzimu,\n",
      "</div><div>Hondzik - Jan Mrkos, vedouc=C3=AD 4. p=C5=99=C3=ADstavu</div></b=\n",
      "ody></html>\n",
      "--------=_MBA58AF655-AD20-489B-8221-116611702BF4--\n",
      "\n",
      "--------=_MB0F754F0C-61BD-4A84-840B-E6407FCE2956\n",
      "Content-Type: image/png; name=qr_code.png\n",
      "Content-Transfer-Encoding: base64\n",
      "Content-Disposition: inline\n",
      "Content-Id: <em06a68a76-0460-476d-a906-b69f6ef07559@escarabajo>\n",
      "\n",
      "SPD*1.0*ACC:CZ2220100000002101999393*AM:700.00*CC:CZK*MSG:Barton Theodor*X-VS:10049*X-SS:1*DT:20211031\n",
      "--------=_MB0F754F0C-61BD-4A84-840B-E6407FCE2956--\n",
      "\n"
     ]
    }
   ],
   "source": [
    "print(emails[0])"
   ]
  },
  {
   "cell_type": "code",
   "execution_count": 42,
   "metadata": {},
   "outputs": [
    {
     "name": "stderr",
     "output_type": "stream",
     "text": [
      "[INFO] file_cache is only supported with oauth2client<4.0.0\n"
     ]
    }
   ],
   "source": [
    "mailer = Mailer()"
   ]
  },
  {
   "cell_type": "code",
   "execution_count": 43,
   "metadata": {},
   "outputs": [
    {
     "name": "stderr",
     "output_type": "stream",
     "text": [
      "[INFO] Message Id: 17caab334bd9143d\n",
      "[INFO] Message Id: 17caab336e6d730f\n",
      "[ERROR] An HTTP error occurred: <HttpError 400 when requesting https://gmail.googleapis.com/gmail/v1/users/4pvs%40skaut.cz/messages/send?alt=json returned \"Invalid To header\". Details: \"[{'message': 'Invalid To header', 'domain': 'global', 'reason': 'invalidArgument'}]\">\n"
     ]
    }
   ],
   "source": [
    "for email in emails:\n",
    "    msg = mailer.send_message(SENDER, email)"
   ]
  },
  {
   "cell_type": "code",
   "execution_count": null,
   "metadata": {},
   "outputs": [],
   "source": []
  }
 ],
 "metadata": {
  "kernelspec": {
   "display_name": "Python 3",
   "language": "python",
   "name": "python3"
  },
  "language_info": {
   "codemirror_mode": {
    "name": "ipython",
    "version": 3
   },
   "file_extension": ".py",
   "mimetype": "text/x-python",
   "name": "python",
   "nbconvert_exporter": "python",
   "pygments_lexer": "ipython3",
   "version": "3.9.7"
  }
 },
 "nbformat": 4,
 "nbformat_minor": 1
}